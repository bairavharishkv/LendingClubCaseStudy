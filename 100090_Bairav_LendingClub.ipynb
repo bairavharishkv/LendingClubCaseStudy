{
  "nbformat": 4,
  "nbformat_minor": 0,
  "metadata": {
    "colab": {
      "provenance": [],
      "collapsed_sections": [
        "1tDNjpd_PrDE",
        "ioqD9MS2Pv_v",
        "NKbMR2KbGQ_2",
        "wO2LItoop9QI",
        "P6DZAoH3QYCC"
      ]
    },
    "kernelspec": {
      "name": "python3",
      "display_name": "Python 3"
    },
    "language_info": {
      "name": "python"
    }
  },
  "cells": [
    {
      "cell_type": "markdown",
      "source": [
        "#This is a Lending Club Case Study"
      ],
      "metadata": {
        "id": "24GuSfBh8MhD"
      }
    },
    {
      "cell_type": "markdown",
      "source": [
        "#### Importing Libraries"
      ],
      "metadata": {
        "id": "1tDNjpd_PrDE"
      }
    },
    {
      "cell_type": "code",
      "source": [
        "#importing Required libraries\n",
        "import numpy as np\n",
        "import pandas as pd\n",
        "import matplotlib.pyplot as plt\n",
        "import seaborn as sns"
      ],
      "metadata": {
        "id": "cpBV7ux-8SW5"
      },
      "execution_count": 1,
      "outputs": []
    },
    {
      "cell_type": "markdown",
      "source": [
        "#### Reading Data and getting Info"
      ],
      "metadata": {
        "id": "ioqD9MS2Pv_v"
      }
    },
    {
      "cell_type": "code",
      "source": [
        "#Read csv file\n",
        "loan = pd.read_csv('loan.csv')\n"
      ],
      "metadata": {
        "colab": {
          "base_uri": "https://localhost:8080/"
        },
        "id": "nLPui8xn8hfW",
        "outputId": "3d9cc788-ebd3-41a2-ebed-accaa3714460"
      },
      "execution_count": 2,
      "outputs": [
        {
          "output_type": "stream",
          "name": "stderr",
          "text": [
            "/usr/local/lib/python3.7/dist-packages/IPython/core/interactiveshell.py:3326: DtypeWarning: Columns (47) have mixed types.Specify dtype option on import or set low_memory=False.\n",
            "  exec(code_obj, self.user_global_ns, self.user_ns)\n"
          ]
        }
      ]
    },
    {
      "cell_type": "code",
      "source": [
        "#Get info on loan table like Number of Rows/Range Index and Number of Columns\n",
        "loan.info()"
      ],
      "metadata": {
        "colab": {
          "base_uri": "https://localhost:8080/"
        },
        "id": "u07i4_oM9Hzc",
        "outputId": "988bc3ed-5fc8-4ff9-edd7-7d397e7c72f0"
      },
      "execution_count": 3,
      "outputs": [
        {
          "output_type": "stream",
          "name": "stdout",
          "text": [
            "<class 'pandas.core.frame.DataFrame'>\n",
            "RangeIndex: 39717 entries, 0 to 39716\n",
            "Columns: 111 entries, id to total_il_high_credit_limit\n",
            "dtypes: float64(74), int64(13), object(24)\n",
            "memory usage: 33.6+ MB\n"
          ]
        }
      ]
    },
    {
      "cell_type": "code",
      "source": [
        "#Getting columns with all null values\n",
        "null_columns = loan[loan.columns[loan.isnull().all()]].columns"
      ],
      "metadata": {
        "id": "hlH_sHug9U9G"
      },
      "execution_count": 4,
      "outputs": []
    },
    {
      "cell_type": "code",
      "source": [
        "null_columns.size"
      ],
      "metadata": {
        "colab": {
          "base_uri": "https://localhost:8080/"
        },
        "id": "bnG-YlAaBCoq",
        "outputId": "6ac3babe-bd0a-480d-e9d5-185d8bf4cc33"
      },
      "execution_count": 5,
      "outputs": [
        {
          "output_type": "execute_result",
          "data": {
            "text/plain": [
              "54"
            ]
          },
          "metadata": {},
          "execution_count": 5
        }
      ]
    },
    {
      "cell_type": "markdown",
      "source": [
        "#### The data has almost 54 columns that have all values as null/nan, hence removing them."
      ],
      "metadata": {
        "id": "q8be21g7BHeB"
      }
    },
    {
      "cell_type": "code",
      "source": [
        "#Dropping columns with all null/nan values\n",
        "loan= loan.dropna(axis = 1,how = 'all')"
      ],
      "metadata": {
        "id": "dpCYMsDPBbxi"
      },
      "execution_count": 6,
      "outputs": []
    },
    {
      "cell_type": "code",
      "source": [
        "#Checking Table info after dropping columns with all null/nan values\n",
        "loan.info()\n",
        "#loan has 57 columns after dropping columns"
      ],
      "metadata": {
        "colab": {
          "base_uri": "https://localhost:8080/"
        },
        "id": "Z1H2cBPODtZ6",
        "outputId": "79acc865-5856-4cd7-bfe4-c3f8606700be"
      },
      "execution_count": 7,
      "outputs": [
        {
          "output_type": "stream",
          "name": "stdout",
          "text": [
            "<class 'pandas.core.frame.DataFrame'>\n",
            "RangeIndex: 39717 entries, 0 to 39716\n",
            "Data columns (total 57 columns):\n",
            " #   Column                      Non-Null Count  Dtype  \n",
            "---  ------                      --------------  -----  \n",
            " 0   id                          39717 non-null  int64  \n",
            " 1   member_id                   39717 non-null  int64  \n",
            " 2   loan_amnt                   39717 non-null  int64  \n",
            " 3   funded_amnt                 39717 non-null  int64  \n",
            " 4   funded_amnt_inv             39717 non-null  float64\n",
            " 5   term                        39717 non-null  object \n",
            " 6   int_rate                    39717 non-null  object \n",
            " 7   installment                 39717 non-null  float64\n",
            " 8   grade                       39717 non-null  object \n",
            " 9   sub_grade                   39717 non-null  object \n",
            " 10  emp_title                   37258 non-null  object \n",
            " 11  emp_length                  38642 non-null  object \n",
            " 12  home_ownership              39717 non-null  object \n",
            " 13  annual_inc                  39717 non-null  float64\n",
            " 14  verification_status         39717 non-null  object \n",
            " 15  issue_d                     39717 non-null  object \n",
            " 16  loan_status                 39717 non-null  object \n",
            " 17  pymnt_plan                  39717 non-null  object \n",
            " 18  url                         39717 non-null  object \n",
            " 19  desc                        26777 non-null  object \n",
            " 20  purpose                     39717 non-null  object \n",
            " 21  title                       39706 non-null  object \n",
            " 22  zip_code                    39717 non-null  object \n",
            " 23  addr_state                  39717 non-null  object \n",
            " 24  dti                         39717 non-null  float64\n",
            " 25  delinq_2yrs                 39717 non-null  int64  \n",
            " 26  earliest_cr_line            39717 non-null  object \n",
            " 27  inq_last_6mths              39717 non-null  int64  \n",
            " 28  mths_since_last_delinq      14035 non-null  float64\n",
            " 29  mths_since_last_record      2786 non-null   float64\n",
            " 30  open_acc                    39717 non-null  int64  \n",
            " 31  pub_rec                     39717 non-null  int64  \n",
            " 32  revol_bal                   39717 non-null  int64  \n",
            " 33  revol_util                  39667 non-null  object \n",
            " 34  total_acc                   39717 non-null  int64  \n",
            " 35  initial_list_status         39717 non-null  object \n",
            " 36  out_prncp                   39717 non-null  float64\n",
            " 37  out_prncp_inv               39717 non-null  float64\n",
            " 38  total_pymnt                 39717 non-null  float64\n",
            " 39  total_pymnt_inv             39717 non-null  float64\n",
            " 40  total_rec_prncp             39717 non-null  float64\n",
            " 41  total_rec_int               39717 non-null  float64\n",
            " 42  total_rec_late_fee          39717 non-null  float64\n",
            " 43  recoveries                  39717 non-null  float64\n",
            " 44  collection_recovery_fee     39717 non-null  float64\n",
            " 45  last_pymnt_d                39646 non-null  object \n",
            " 46  last_pymnt_amnt             39717 non-null  float64\n",
            " 47  next_pymnt_d                1140 non-null   object \n",
            " 48  last_credit_pull_d          39715 non-null  object \n",
            " 49  collections_12_mths_ex_med  39661 non-null  float64\n",
            " 50  policy_code                 39717 non-null  int64  \n",
            " 51  application_type            39717 non-null  object \n",
            " 52  acc_now_delinq              39717 non-null  int64  \n",
            " 53  chargeoff_within_12_mths    39661 non-null  float64\n",
            " 54  delinq_amnt                 39717 non-null  int64  \n",
            " 55  pub_rec_bankruptcies        39020 non-null  float64\n",
            " 56  tax_liens                   39678 non-null  float64\n",
            "dtypes: float64(20), int64(13), object(24)\n",
            "memory usage: 17.3+ MB\n"
          ]
        }
      ]
    },
    {
      "cell_type": "code",
      "source": [],
      "metadata": {
        "id": "5FyGFnMrEwPy"
      },
      "execution_count": 7,
      "outputs": []
    },
    {
      "cell_type": "markdown",
      "source": [
        "#### Checking for rows with all null values"
      ],
      "metadata": {
        "id": "_ldvuvnjE7aJ"
      }
    },
    {
      "cell_type": "code",
      "source": [
        "loan.isnull().all()\n",
        "#No rows have all null columns"
      ],
      "metadata": {
        "colab": {
          "base_uri": "https://localhost:8080/"
        },
        "id": "ElnBkyv4FI82",
        "outputId": "cc3a9610-6106-4765-b940-8029053d6a44"
      },
      "execution_count": 8,
      "outputs": [
        {
          "output_type": "execute_result",
          "data": {
            "text/plain": [
              "id                            False\n",
              "member_id                     False\n",
              "loan_amnt                     False\n",
              "funded_amnt                   False\n",
              "funded_amnt_inv               False\n",
              "term                          False\n",
              "int_rate                      False\n",
              "installment                   False\n",
              "grade                         False\n",
              "sub_grade                     False\n",
              "emp_title                     False\n",
              "emp_length                    False\n",
              "home_ownership                False\n",
              "annual_inc                    False\n",
              "verification_status           False\n",
              "issue_d                       False\n",
              "loan_status                   False\n",
              "pymnt_plan                    False\n",
              "url                           False\n",
              "desc                          False\n",
              "purpose                       False\n",
              "title                         False\n",
              "zip_code                      False\n",
              "addr_state                    False\n",
              "dti                           False\n",
              "delinq_2yrs                   False\n",
              "earliest_cr_line              False\n",
              "inq_last_6mths                False\n",
              "mths_since_last_delinq        False\n",
              "mths_since_last_record        False\n",
              "open_acc                      False\n",
              "pub_rec                       False\n",
              "revol_bal                     False\n",
              "revol_util                    False\n",
              "total_acc                     False\n",
              "initial_list_status           False\n",
              "out_prncp                     False\n",
              "out_prncp_inv                 False\n",
              "total_pymnt                   False\n",
              "total_pymnt_inv               False\n",
              "total_rec_prncp               False\n",
              "total_rec_int                 False\n",
              "total_rec_late_fee            False\n",
              "recoveries                    False\n",
              "collection_recovery_fee       False\n",
              "last_pymnt_d                  False\n",
              "last_pymnt_amnt               False\n",
              "next_pymnt_d                  False\n",
              "last_credit_pull_d            False\n",
              "collections_12_mths_ex_med    False\n",
              "policy_code                   False\n",
              "application_type              False\n",
              "acc_now_delinq                False\n",
              "chargeoff_within_12_mths      False\n",
              "delinq_amnt                   False\n",
              "pub_rec_bankruptcies          False\n",
              "tax_liens                     False\n",
              "dtype: bool"
            ]
          },
          "metadata": {},
          "execution_count": 8
        }
      ]
    },
    {
      "cell_type": "markdown",
      "source": [
        "#### Get Unique Values Count"
      ],
      "metadata": {
        "id": "NKbMR2KbGQ_2"
      }
    },
    {
      "cell_type": "code",
      "source": [
        "loan.nunique()"
      ],
      "metadata": {
        "colab": {
          "base_uri": "https://localhost:8080/"
        },
        "id": "3AKQbZjIHIL7",
        "outputId": "3b995501-20a6-4e0b-b091-b8212f26aa72"
      },
      "execution_count": 9,
      "outputs": [
        {
          "output_type": "execute_result",
          "data": {
            "text/plain": [
              "id                            39717\n",
              "member_id                     39717\n",
              "loan_amnt                       885\n",
              "funded_amnt                    1041\n",
              "funded_amnt_inv                8205\n",
              "term                              2\n",
              "int_rate                        371\n",
              "installment                   15383\n",
              "grade                             7\n",
              "sub_grade                        35\n",
              "emp_title                     28820\n",
              "emp_length                       11\n",
              "home_ownership                    5\n",
              "annual_inc                     5318\n",
              "verification_status               3\n",
              "issue_d                          55\n",
              "loan_status                       3\n",
              "pymnt_plan                        1\n",
              "url                           39717\n",
              "desc                          26527\n",
              "purpose                          14\n",
              "title                         19615\n",
              "zip_code                        823\n",
              "addr_state                       50\n",
              "dti                            2868\n",
              "delinq_2yrs                      11\n",
              "earliest_cr_line                526\n",
              "inq_last_6mths                    9\n",
              "mths_since_last_delinq           95\n",
              "mths_since_last_record          111\n",
              "open_acc                         40\n",
              "pub_rec                           5\n",
              "revol_bal                     21711\n",
              "revol_util                     1089\n",
              "total_acc                        82\n",
              "initial_list_status               1\n",
              "out_prncp                      1137\n",
              "out_prncp_inv                  1138\n",
              "total_pymnt                   37850\n",
              "total_pymnt_inv               37518\n",
              "total_rec_prncp                7976\n",
              "total_rec_int                 35148\n",
              "total_rec_late_fee             1356\n",
              "recoveries                     4040\n",
              "collection_recovery_fee        2616\n",
              "last_pymnt_d                    101\n",
              "last_pymnt_amnt               34930\n",
              "next_pymnt_d                      2\n",
              "last_credit_pull_d              106\n",
              "collections_12_mths_ex_med        1\n",
              "policy_code                       1\n",
              "application_type                  1\n",
              "acc_now_delinq                    1\n",
              "chargeoff_within_12_mths          1\n",
              "delinq_amnt                       1\n",
              "pub_rec_bankruptcies              3\n",
              "tax_liens                         1\n",
              "dtype: int64"
            ]
          },
          "metadata": {},
          "execution_count": 9
        }
      ]
    },
    {
      "cell_type": "code",
      "source": [
        "#Dropping columns which has unique value count as 1 since this doesn't change the o/p\n",
        "loan = loan.drop(['tax_liens','delinq_amnt','chargeoff_within_12_mths','acc_now_delinq','application_type','policy_code','collections_12_mths_ex_med','initial_list_status','pymnt_plan'], axis=1)"
      ],
      "metadata": {
        "id": "yuawX7j5G2Bp"
      },
      "execution_count": 10,
      "outputs": []
    },
    {
      "cell_type": "code",
      "source": [
        "#checking Unique Columns after removing\n",
        "loan.nunique()\n",
        "print(loan.info())"
      ],
      "metadata": {
        "colab": {
          "base_uri": "https://localhost:8080/"
        },
        "id": "iCBUWA3wIcTG",
        "outputId": "075068b5-783f-475c-ab99-d3f152992f9c"
      },
      "execution_count": 11,
      "outputs": [
        {
          "output_type": "stream",
          "name": "stdout",
          "text": [
            "<class 'pandas.core.frame.DataFrame'>\n",
            "RangeIndex: 39717 entries, 0 to 39716\n",
            "Data columns (total 48 columns):\n",
            " #   Column                   Non-Null Count  Dtype  \n",
            "---  ------                   --------------  -----  \n",
            " 0   id                       39717 non-null  int64  \n",
            " 1   member_id                39717 non-null  int64  \n",
            " 2   loan_amnt                39717 non-null  int64  \n",
            " 3   funded_amnt              39717 non-null  int64  \n",
            " 4   funded_amnt_inv          39717 non-null  float64\n",
            " 5   term                     39717 non-null  object \n",
            " 6   int_rate                 39717 non-null  object \n",
            " 7   installment              39717 non-null  float64\n",
            " 8   grade                    39717 non-null  object \n",
            " 9   sub_grade                39717 non-null  object \n",
            " 10  emp_title                37258 non-null  object \n",
            " 11  emp_length               38642 non-null  object \n",
            " 12  home_ownership           39717 non-null  object \n",
            " 13  annual_inc               39717 non-null  float64\n",
            " 14  verification_status      39717 non-null  object \n",
            " 15  issue_d                  39717 non-null  object \n",
            " 16  loan_status              39717 non-null  object \n",
            " 17  url                      39717 non-null  object \n",
            " 18  desc                     26777 non-null  object \n",
            " 19  purpose                  39717 non-null  object \n",
            " 20  title                    39706 non-null  object \n",
            " 21  zip_code                 39717 non-null  object \n",
            " 22  addr_state               39717 non-null  object \n",
            " 23  dti                      39717 non-null  float64\n",
            " 24  delinq_2yrs              39717 non-null  int64  \n",
            " 25  earliest_cr_line         39717 non-null  object \n",
            " 26  inq_last_6mths           39717 non-null  int64  \n",
            " 27  mths_since_last_delinq   14035 non-null  float64\n",
            " 28  mths_since_last_record   2786 non-null   float64\n",
            " 29  open_acc                 39717 non-null  int64  \n",
            " 30  pub_rec                  39717 non-null  int64  \n",
            " 31  revol_bal                39717 non-null  int64  \n",
            " 32  revol_util               39667 non-null  object \n",
            " 33  total_acc                39717 non-null  int64  \n",
            " 34  out_prncp                39717 non-null  float64\n",
            " 35  out_prncp_inv            39717 non-null  float64\n",
            " 36  total_pymnt              39717 non-null  float64\n",
            " 37  total_pymnt_inv          39717 non-null  float64\n",
            " 38  total_rec_prncp          39717 non-null  float64\n",
            " 39  total_rec_int            39717 non-null  float64\n",
            " 40  total_rec_late_fee       39717 non-null  float64\n",
            " 41  recoveries               39717 non-null  float64\n",
            " 42  collection_recovery_fee  39717 non-null  float64\n",
            " 43  last_pymnt_d             39646 non-null  object \n",
            " 44  last_pymnt_amnt          39717 non-null  float64\n",
            " 45  next_pymnt_d             1140 non-null   object \n",
            " 46  last_credit_pull_d       39715 non-null  object \n",
            " 47  pub_rec_bankruptcies     39020 non-null  float64\n",
            "dtypes: float64(17), int64(10), object(21)\n",
            "memory usage: 14.5+ MB\n",
            "None\n"
          ]
        }
      ]
    },
    {
      "cell_type": "markdown",
      "source": [
        "#### Data Cleanup : Removing Customer Behavior Variables(ex: delinq_2yrs) as these are found once the application is approved and are not available at the time of loan application, hence these can't be used for analysis."
      ],
      "metadata": {
        "id": "znqFSDHsJsrd"
      }
    },
    {
      "cell_type": "code",
      "source": [
        "#The list contains columns which as Customer Behavior Variables\n",
        "cust_behav_variables=['delinq_2yrs','earliest_cr_line','inq_last_6mths','open_acc','pub_rec','revol_bal','revol_util','total_acc','out_prncp','out_prncp_inv','total_pymnt','total_pymnt_inv','total_rec_prncp','total_rec_int','total_rec_late_fee','recoveries','collection_recovery_fee','last_pymnt_d','last_pymnt_amnt','last_credit_pull_d']"
      ],
      "metadata": {
        "id": "vvu3BRUeJ8DV"
      },
      "execution_count": 12,
      "outputs": []
    },
    {
      "cell_type": "code",
      "source": [
        "loan = loan.drop(cust_behav_variables,axis=1)"
      ],
      "metadata": {
        "id": "meHEtbDjLPAF"
      },
      "execution_count": 13,
      "outputs": []
    },
    {
      "cell_type": "code",
      "source": [
        "loan.info()"
      ],
      "metadata": {
        "colab": {
          "base_uri": "https://localhost:8080/"
        },
        "id": "WZ9fVnYuLcT2",
        "outputId": "90cef3b5-1543-405c-debe-fc0cb8d456f9"
      },
      "execution_count": 14,
      "outputs": [
        {
          "output_type": "stream",
          "name": "stdout",
          "text": [
            "<class 'pandas.core.frame.DataFrame'>\n",
            "RangeIndex: 39717 entries, 0 to 39716\n",
            "Data columns (total 28 columns):\n",
            " #   Column                  Non-Null Count  Dtype  \n",
            "---  ------                  --------------  -----  \n",
            " 0   id                      39717 non-null  int64  \n",
            " 1   member_id               39717 non-null  int64  \n",
            " 2   loan_amnt               39717 non-null  int64  \n",
            " 3   funded_amnt             39717 non-null  int64  \n",
            " 4   funded_amnt_inv         39717 non-null  float64\n",
            " 5   term                    39717 non-null  object \n",
            " 6   int_rate                39717 non-null  object \n",
            " 7   installment             39717 non-null  float64\n",
            " 8   grade                   39717 non-null  object \n",
            " 9   sub_grade               39717 non-null  object \n",
            " 10  emp_title               37258 non-null  object \n",
            " 11  emp_length              38642 non-null  object \n",
            " 12  home_ownership          39717 non-null  object \n",
            " 13  annual_inc              39717 non-null  float64\n",
            " 14  verification_status     39717 non-null  object \n",
            " 15  issue_d                 39717 non-null  object \n",
            " 16  loan_status             39717 non-null  object \n",
            " 17  url                     39717 non-null  object \n",
            " 18  desc                    26777 non-null  object \n",
            " 19  purpose                 39717 non-null  object \n",
            " 20  title                   39706 non-null  object \n",
            " 21  zip_code                39717 non-null  object \n",
            " 22  addr_state              39717 non-null  object \n",
            " 23  dti                     39717 non-null  float64\n",
            " 24  mths_since_last_delinq  14035 non-null  float64\n",
            " 25  mths_since_last_record  2786 non-null   float64\n",
            " 26  next_pymnt_d            1140 non-null   object \n",
            " 27  pub_rec_bankruptcies    39020 non-null  float64\n",
            "dtypes: float64(7), int64(4), object(17)\n",
            "memory usage: 8.5+ MB\n"
          ]
        }
      ]
    },
    {
      "cell_type": "code",
      "source": [
        "####Cleaning up unnecessary data\n",
        "##### id,member_id : Since the id is unique to each individual and doesn't change the behavior of the customer\n",
        "##### funded_amnt,funded_amnt_inv : The final amount required by customer is loan_amnt, these two values are lesser than loan_amnt so it doesn't change the behavior\n",
        "##### installment : The installment amount is not required for current decision making\n",
        "##### emp_title : The title of the employee keeps changing in every org(for ex: Manager in a company can be Tech Manager in a different company) and doesn't clearly state the customer behavior\n",
        "##### mths_since_last_record, url,desc,title,addr_state,mths_since_last_delinq,next_pymnt_d,zip_code : not required for analysis\n",
        "irr_columns = ['id','member_id','funded_amnt','funded_amnt_inv','installment','emp_title','url','desc','title','addr_state','mths_since_last_delinq','next_pymnt_d','zip_code','mths_since_last_record']\n"
      ],
      "metadata": {
        "id": "8EU98FUNL5ue"
      },
      "execution_count": 15,
      "outputs": []
    },
    {
      "cell_type": "code",
      "source": [
        "loan = loan.drop(irr_columns,axis=1)"
      ],
      "metadata": {
        "id": "JcUqFM9DPE0Y"
      },
      "execution_count": 16,
      "outputs": []
    },
    {
      "cell_type": "code",
      "source": [],
      "metadata": {
        "id": "V6bWLqcePOK1"
      },
      "execution_count": 16,
      "outputs": []
    },
    {
      "cell_type": "markdown",
      "source": [
        "#### Data Manipulation"
      ],
      "metadata": {
        "id": "kmk1RFLbQgw6"
      }
    },
    {
      "cell_type": "code",
      "source": [
        "#checking column types to see if they're proper\n",
        "loan.info()"
      ],
      "metadata": {
        "colab": {
          "base_uri": "https://localhost:8080/"
        },
        "id": "2CafZMAUSImX",
        "outputId": "965a6811-d01d-42dc-ac5d-d6e29797f001"
      },
      "execution_count": 17,
      "outputs": [
        {
          "output_type": "stream",
          "name": "stdout",
          "text": [
            "<class 'pandas.core.frame.DataFrame'>\n",
            "RangeIndex: 39717 entries, 0 to 39716\n",
            "Data columns (total 14 columns):\n",
            " #   Column                Non-Null Count  Dtype  \n",
            "---  ------                --------------  -----  \n",
            " 0   loan_amnt             39717 non-null  int64  \n",
            " 1   term                  39717 non-null  object \n",
            " 2   int_rate              39717 non-null  object \n",
            " 3   grade                 39717 non-null  object \n",
            " 4   sub_grade             39717 non-null  object \n",
            " 5   emp_length            38642 non-null  object \n",
            " 6   home_ownership        39717 non-null  object \n",
            " 7   annual_inc            39717 non-null  float64\n",
            " 8   verification_status   39717 non-null  object \n",
            " 9   issue_d               39717 non-null  object \n",
            " 10  loan_status           39717 non-null  object \n",
            " 11  purpose               39717 non-null  object \n",
            " 12  dti                   39717 non-null  float64\n",
            " 13  pub_rec_bankruptcies  39020 non-null  float64\n",
            "dtypes: float64(3), int64(1), object(10)\n",
            "memory usage: 4.2+ MB\n"
          ]
        }
      ]
    },
    {
      "cell_type": "code",
      "source": [
        "#Remove the string 'months' in term column\n",
        "def cleanUpTerm(x):\n",
        "  monthsvar = ' months'\n",
        "  if monthsvar in x:\n",
        "    x = x.replace(monthsvar,'')\n",
        "  return int(x)\n",
        "loan['term'] = loan['term'].apply(cleanUpTerm)\n"
      ],
      "metadata": {
        "id": "35L3GgysQjoe"
      },
      "execution_count": 18,
      "outputs": []
    },
    {
      "cell_type": "code",
      "source": [
        "print(loan['term'].dtype)"
      ],
      "metadata": {
        "colab": {
          "base_uri": "https://localhost:8080/"
        },
        "id": "wkYTAVGhRns3",
        "outputId": "e3f359a3-796d-432a-a575-9609da5a99e0"
      },
      "execution_count": 19,
      "outputs": [
        {
          "output_type": "stream",
          "name": "stdout",
          "text": [
            "int64\n"
          ]
        }
      ]
    },
    {
      "cell_type": "code",
      "source": [
        "#Cleanup Percentage\n",
        "def cleanUpPercentage(x):\n",
        "  perStr = '%'\n",
        "  if perStr in x:\n",
        "    x = x.replace(perStr,'')\n",
        "  return float(x)\n",
        "\n",
        "loan['int_rate'] = loan['int_rate'].apply(cleanUpPercentage)"
      ],
      "metadata": {
        "id": "fNz6Fmw4SR32"
      },
      "execution_count": 20,
      "outputs": []
    },
    {
      "cell_type": "code",
      "source": [
        "print(loan['int_rate'].dtype)"
      ],
      "metadata": {
        "colab": {
          "base_uri": "https://localhost:8080/"
        },
        "id": "or50NnRZTB-2",
        "outputId": "99245d78-c973-4c95-8c8a-7bb298c94f68"
      },
      "execution_count": 21,
      "outputs": [
        {
          "output_type": "stream",
          "name": "stdout",
          "text": [
            "float64\n"
          ]
        }
      ]
    },
    {
      "cell_type": "code",
      "source": [
        "#Cleanup Employment Length\n",
        "import math\n",
        "def cleanUpEmploymentLength(x):\n",
        "  yearsstr = 'years'\n",
        "  yearstr = 'year'\n",
        "  lessthan = '<'\n",
        "  notapp = 'n/a'\n",
        "  plussymb = '+'\n",
        "  if yearsstr in x:\n",
        "    x = x.replace(yearsstr,'')\n",
        "  if yearstr in x:\n",
        "    x = x.replace(yearstr,'')\n",
        "  if lessthan in x:\n",
        "    x = x.replace(lessthan,'')\n",
        "  if notapp in x:\n",
        "    x = x.replace(notapp,'0')\n",
        "  if plussymb in x:\n",
        "    x = x.replace(plussymb,'')\n",
        "  return int(x.strip())\n",
        "loan['emp_length'] = loan['emp_length'].fillna('n/a')\n",
        "\n",
        "loan['emp_length'] = loan['emp_length'].apply(cleanUpEmploymentLength)"
      ],
      "metadata": {
        "id": "RXMKB59wVqMw"
      },
      "execution_count": 22,
      "outputs": []
    },
    {
      "cell_type": "code",
      "source": [
        "#Removing Rows with Loan Status as Current since it's not possible to determine if the customer will pay it fully or if it'll be charged off in the end\n",
        "loan = loan[~(loan['loan_status']=='Current')]"
      ],
      "metadata": {
        "id": "9g6RN3uqTo0U"
      },
      "execution_count": 23,
      "outputs": []
    },
    {
      "cell_type": "code",
      "source": [
        "# Getting Issue Month from Date\n",
        "\n",
        "loan['issue_d'] = pd.to_datetime(loan['issue_d'], format='%b-%y')\n",
        "loan['issue_month']=loan['issue_d'].dt.month"
      ],
      "metadata": {
        "colab": {
          "base_uri": "https://localhost:8080/"
        },
        "id": "rYh2wk8bT-k2",
        "outputId": "4b0214b9-dd1e-4d8b-dff9-a538b7cd95fb"
      },
      "execution_count": 24,
      "outputs": [
        {
          "output_type": "stream",
          "name": "stderr",
          "text": [
            "/usr/local/lib/python3.7/dist-packages/ipykernel_launcher.py:3: SettingWithCopyWarning: \n",
            "A value is trying to be set on a copy of a slice from a DataFrame.\n",
            "Try using .loc[row_indexer,col_indexer] = value instead\n",
            "\n",
            "See the caveats in the documentation: https://pandas.pydata.org/pandas-docs/stable/user_guide/indexing.html#returning-a-view-versus-a-copy\n",
            "  This is separate from the ipykernel package so we can avoid doing imports until\n",
            "/usr/local/lib/python3.7/dist-packages/ipykernel_launcher.py:4: SettingWithCopyWarning: \n",
            "A value is trying to be set on a copy of a slice from a DataFrame.\n",
            "Try using .loc[row_indexer,col_indexer] = value instead\n",
            "\n",
            "See the caveats in the documentation: https://pandas.pydata.org/pandas-docs/stable/user_guide/indexing.html#returning-a-view-versus-a-copy\n",
            "  after removing the cwd from sys.path.\n"
          ]
        }
      ]
    },
    {
      "cell_type": "code",
      "source": [
        "loan.head(2)"
      ],
      "metadata": {
        "colab": {
          "base_uri": "https://localhost:8080/",
          "height": 211
        },
        "id": "y9LfF7wedAmD",
        "outputId": "fa997089-63dc-4318-d059-c4f84870acfe"
      },
      "execution_count": 25,
      "outputs": [
        {
          "output_type": "execute_result",
          "data": {
            "text/plain": [
              "   loan_amnt  term  int_rate grade sub_grade  emp_length home_ownership  \\\n",
              "0       5000    36     10.65     B        B2          10           RENT   \n",
              "1       2500    60     15.27     C        C4           1           RENT   \n",
              "\n",
              "   annual_inc verification_status    issue_d  loan_status      purpose    dti  \\\n",
              "0     24000.0            Verified 2011-12-01   Fully Paid  credit_card  27.65   \n",
              "1     30000.0     Source Verified 2011-12-01  Charged Off          car   1.00   \n",
              "\n",
              "   pub_rec_bankruptcies  issue_month  \n",
              "0                   0.0           12  \n",
              "1                   0.0           12  "
            ],
            "text/html": [
              "\n",
              "  <div id=\"df-26666a32-9fd2-4080-a1f7-31c6a107953b\">\n",
              "    <div class=\"colab-df-container\">\n",
              "      <div>\n",
              "<style scoped>\n",
              "    .dataframe tbody tr th:only-of-type {\n",
              "        vertical-align: middle;\n",
              "    }\n",
              "\n",
              "    .dataframe tbody tr th {\n",
              "        vertical-align: top;\n",
              "    }\n",
              "\n",
              "    .dataframe thead th {\n",
              "        text-align: right;\n",
              "    }\n",
              "</style>\n",
              "<table border=\"1\" class=\"dataframe\">\n",
              "  <thead>\n",
              "    <tr style=\"text-align: right;\">\n",
              "      <th></th>\n",
              "      <th>loan_amnt</th>\n",
              "      <th>term</th>\n",
              "      <th>int_rate</th>\n",
              "      <th>grade</th>\n",
              "      <th>sub_grade</th>\n",
              "      <th>emp_length</th>\n",
              "      <th>home_ownership</th>\n",
              "      <th>annual_inc</th>\n",
              "      <th>verification_status</th>\n",
              "      <th>issue_d</th>\n",
              "      <th>loan_status</th>\n",
              "      <th>purpose</th>\n",
              "      <th>dti</th>\n",
              "      <th>pub_rec_bankruptcies</th>\n",
              "      <th>issue_month</th>\n",
              "    </tr>\n",
              "  </thead>\n",
              "  <tbody>\n",
              "    <tr>\n",
              "      <th>0</th>\n",
              "      <td>5000</td>\n",
              "      <td>36</td>\n",
              "      <td>10.65</td>\n",
              "      <td>B</td>\n",
              "      <td>B2</td>\n",
              "      <td>10</td>\n",
              "      <td>RENT</td>\n",
              "      <td>24000.0</td>\n",
              "      <td>Verified</td>\n",
              "      <td>2011-12-01</td>\n",
              "      <td>Fully Paid</td>\n",
              "      <td>credit_card</td>\n",
              "      <td>27.65</td>\n",
              "      <td>0.0</td>\n",
              "      <td>12</td>\n",
              "    </tr>\n",
              "    <tr>\n",
              "      <th>1</th>\n",
              "      <td>2500</td>\n",
              "      <td>60</td>\n",
              "      <td>15.27</td>\n",
              "      <td>C</td>\n",
              "      <td>C4</td>\n",
              "      <td>1</td>\n",
              "      <td>RENT</td>\n",
              "      <td>30000.0</td>\n",
              "      <td>Source Verified</td>\n",
              "      <td>2011-12-01</td>\n",
              "      <td>Charged Off</td>\n",
              "      <td>car</td>\n",
              "      <td>1.00</td>\n",
              "      <td>0.0</td>\n",
              "      <td>12</td>\n",
              "    </tr>\n",
              "  </tbody>\n",
              "</table>\n",
              "</div>\n",
              "      <button class=\"colab-df-convert\" onclick=\"convertToInteractive('df-26666a32-9fd2-4080-a1f7-31c6a107953b')\"\n",
              "              title=\"Convert this dataframe to an interactive table.\"\n",
              "              style=\"display:none;\">\n",
              "        \n",
              "  <svg xmlns=\"http://www.w3.org/2000/svg\" height=\"24px\"viewBox=\"0 0 24 24\"\n",
              "       width=\"24px\">\n",
              "    <path d=\"M0 0h24v24H0V0z\" fill=\"none\"/>\n",
              "    <path d=\"M18.56 5.44l.94 2.06.94-2.06 2.06-.94-2.06-.94-.94-2.06-.94 2.06-2.06.94zm-11 1L8.5 8.5l.94-2.06 2.06-.94-2.06-.94L8.5 2.5l-.94 2.06-2.06.94zm10 10l.94 2.06.94-2.06 2.06-.94-2.06-.94-.94-2.06-.94 2.06-2.06.94z\"/><path d=\"M17.41 7.96l-1.37-1.37c-.4-.4-.92-.59-1.43-.59-.52 0-1.04.2-1.43.59L10.3 9.45l-7.72 7.72c-.78.78-.78 2.05 0 2.83L4 21.41c.39.39.9.59 1.41.59.51 0 1.02-.2 1.41-.59l7.78-7.78 2.81-2.81c.8-.78.8-2.07 0-2.86zM5.41 20L4 18.59l7.72-7.72 1.47 1.35L5.41 20z\"/>\n",
              "  </svg>\n",
              "      </button>\n",
              "      \n",
              "  <style>\n",
              "    .colab-df-container {\n",
              "      display:flex;\n",
              "      flex-wrap:wrap;\n",
              "      gap: 12px;\n",
              "    }\n",
              "\n",
              "    .colab-df-convert {\n",
              "      background-color: #E8F0FE;\n",
              "      border: none;\n",
              "      border-radius: 50%;\n",
              "      cursor: pointer;\n",
              "      display: none;\n",
              "      fill: #1967D2;\n",
              "      height: 32px;\n",
              "      padding: 0 0 0 0;\n",
              "      width: 32px;\n",
              "    }\n",
              "\n",
              "    .colab-df-convert:hover {\n",
              "      background-color: #E2EBFA;\n",
              "      box-shadow: 0px 1px 2px rgba(60, 64, 67, 0.3), 0px 1px 3px 1px rgba(60, 64, 67, 0.15);\n",
              "      fill: #174EA6;\n",
              "    }\n",
              "\n",
              "    [theme=dark] .colab-df-convert {\n",
              "      background-color: #3B4455;\n",
              "      fill: #D2E3FC;\n",
              "    }\n",
              "\n",
              "    [theme=dark] .colab-df-convert:hover {\n",
              "      background-color: #434B5C;\n",
              "      box-shadow: 0px 1px 3px 1px rgba(0, 0, 0, 0.15);\n",
              "      filter: drop-shadow(0px 1px 2px rgba(0, 0, 0, 0.3));\n",
              "      fill: #FFFFFF;\n",
              "    }\n",
              "  </style>\n",
              "\n",
              "      <script>\n",
              "        const buttonEl =\n",
              "          document.querySelector('#df-26666a32-9fd2-4080-a1f7-31c6a107953b button.colab-df-convert');\n",
              "        buttonEl.style.display =\n",
              "          google.colab.kernel.accessAllowed ? 'block' : 'none';\n",
              "\n",
              "        async function convertToInteractive(key) {\n",
              "          const element = document.querySelector('#df-26666a32-9fd2-4080-a1f7-31c6a107953b');\n",
              "          const dataTable =\n",
              "            await google.colab.kernel.invokeFunction('convertToInteractive',\n",
              "                                                     [key], {});\n",
              "          if (!dataTable) return;\n",
              "\n",
              "          const docLinkHtml = 'Like what you see? Visit the ' +\n",
              "            '<a target=\"_blank\" href=https://colab.research.google.com/notebooks/data_table.ipynb>data table notebook</a>'\n",
              "            + ' to learn more about interactive tables.';\n",
              "          element.innerHTML = '';\n",
              "          dataTable['output_type'] = 'display_data';\n",
              "          await google.colab.output.renderOutput(dataTable, element);\n",
              "          const docLink = document.createElement('div');\n",
              "          docLink.innerHTML = docLinkHtml;\n",
              "          element.appendChild(docLink);\n",
              "        }\n",
              "      </script>\n",
              "    </div>\n",
              "  </div>\n",
              "  "
            ]
          },
          "metadata": {},
          "execution_count": 25
        }
      ]
    },
    {
      "cell_type": "code",
      "source": [
        "loan.info()"
      ],
      "metadata": {
        "colab": {
          "base_uri": "https://localhost:8080/"
        },
        "id": "aXFWPSeFdV1R",
        "outputId": "ae5bcc69-6946-4683-c049-e0372a9b9c66"
      },
      "execution_count": 26,
      "outputs": [
        {
          "output_type": "stream",
          "name": "stdout",
          "text": [
            "<class 'pandas.core.frame.DataFrame'>\n",
            "Int64Index: 38577 entries, 0 to 39716\n",
            "Data columns (total 15 columns):\n",
            " #   Column                Non-Null Count  Dtype         \n",
            "---  ------                --------------  -----         \n",
            " 0   loan_amnt             38577 non-null  int64         \n",
            " 1   term                  38577 non-null  int64         \n",
            " 2   int_rate              38577 non-null  float64       \n",
            " 3   grade                 38577 non-null  object        \n",
            " 4   sub_grade             38577 non-null  object        \n",
            " 5   emp_length            38577 non-null  int64         \n",
            " 6   home_ownership        38577 non-null  object        \n",
            " 7   annual_inc            38577 non-null  float64       \n",
            " 8   verification_status   38577 non-null  object        \n",
            " 9   issue_d               38577 non-null  datetime64[ns]\n",
            " 10  loan_status           38577 non-null  object        \n",
            " 11  purpose               38577 non-null  object        \n",
            " 12  dti                   38577 non-null  float64       \n",
            " 13  pub_rec_bankruptcies  37880 non-null  float64       \n",
            " 14  issue_month           38577 non-null  int64         \n",
            "dtypes: datetime64[ns](1), float64(4), int64(4), object(6)\n",
            "memory usage: 4.7+ MB\n"
          ]
        }
      ]
    },
    {
      "cell_type": "markdown",
      "source": [
        "#### Analysis"
      ],
      "metadata": {
        "id": "2h-mEBtnp5FB"
      }
    },
    {
      "cell_type": "code",
      "source": [
        "#Checking % of Verification status\n",
        "((loan['verification_status'].value_counts())/len(loan))*100"
      ],
      "metadata": {
        "colab": {
          "base_uri": "https://localhost:8080/"
        },
        "id": "UAnOx0ZEd0yY",
        "outputId": "23b7a2e1-c265-4ae0-ca99-b38171c17e64"
      },
      "execution_count": 27,
      "outputs": [
        {
          "output_type": "execute_result",
          "data": {
            "text/plain": [
              "Not Verified       43.274490\n",
              "Verified           31.640615\n",
              "Source Verified    25.084895\n",
              "Name: verification_status, dtype: float64"
            ]
          },
          "metadata": {},
          "execution_count": 27
        }
      ]
    },
    {
      "cell_type": "code",
      "source": [
        "#Checking % of Loan Status\n",
        "((loan['loan_status'].value_counts())/len(loan))*100"
      ],
      "metadata": {
        "colab": {
          "base_uri": "https://localhost:8080/"
        },
        "id": "LHk3wkfheDCO",
        "outputId": "87cdf058-e14f-48d1-bb09-59863f38e3d3"
      },
      "execution_count": 28,
      "outputs": [
        {
          "output_type": "execute_result",
          "data": {
            "text/plain": [
              "Fully Paid     85.413588\n",
              "Charged Off    14.586412\n",
              "Name: loan_status, dtype: float64"
            ]
          },
          "metadata": {},
          "execution_count": 28
        }
      ]
    },
    {
      "cell_type": "code",
      "source": [
        "#Checking % of Purpose\n",
        "((loan['purpose'].value_counts())/len(loan))*100"
      ],
      "metadata": {
        "colab": {
          "base_uri": "https://localhost:8080/"
        },
        "id": "dqNYieE-eds1",
        "outputId": "0f87f12e-9602-4311-c790-219c4e2c13e4"
      },
      "execution_count": 29,
      "outputs": [
        {
          "output_type": "execute_result",
          "data": {
            "text/plain": [
              "debt_consolidation    46.802499\n",
              "credit_card           13.031081\n",
              "other                 10.018923\n",
              "home_improvement       7.452627\n",
              "major_purchase         5.573269\n",
              "small_business         4.546751\n",
              "car                    3.885735\n",
              "wedding                2.400394\n",
              "medical                1.765301\n",
              "moving                 1.493118\n",
              "vacation               0.972082\n",
              "house                  0.951344\n",
              "educational            0.842471\n",
              "renewable_energy       0.264406\n",
              "Name: purpose, dtype: float64"
            ]
          },
          "metadata": {},
          "execution_count": 29
        }
      ]
    },
    {
      "cell_type": "code",
      "source": [
        "#Checking % of Home OwnerShip\n",
        "((loan['home_ownership'].value_counts())/len(loan))*100"
      ],
      "metadata": {
        "colab": {
          "base_uri": "https://localhost:8080/"
        },
        "id": "3q6glX0Veti1",
        "outputId": "1bf6c8be-42ce-4060-ef4d-828c17fdcb91"
      },
      "execution_count": 30,
      "outputs": [
        {
          "output_type": "execute_result",
          "data": {
            "text/plain": [
              "RENT        47.904192\n",
              "MORTGAGE    44.122145\n",
              "OWN          7.711849\n",
              "OTHER        0.254037\n",
              "NONE         0.007777\n",
              "Name: home_ownership, dtype: float64"
            ]
          },
          "metadata": {},
          "execution_count": 30
        }
      ]
    },
    {
      "cell_type": "code",
      "source": [
        "loan.describe()"
      ],
      "metadata": {
        "colab": {
          "base_uri": "https://localhost:8080/",
          "height": 300
        },
        "id": "NII9jBxaueeh",
        "outputId": "0c001de6-fad7-448c-881c-bc4b3f56c1b0"
      },
      "execution_count": 31,
      "outputs": [
        {
          "output_type": "execute_result",
          "data": {
            "text/plain": [
              "          loan_amnt          term      int_rate    emp_length    annual_inc  \\\n",
              "count  38577.000000  38577.000000  38577.000000  38577.000000  3.857700e+04   \n",
              "mean   11047.025430     41.898437     11.932219      4.925526  6.877797e+04   \n",
              "std     7348.441646     10.333136      3.691327      3.453921  6.421868e+04   \n",
              "min      500.000000     36.000000      5.420000      0.000000  4.000000e+03   \n",
              "25%     5300.000000     36.000000      8.940000      2.000000  4.000000e+04   \n",
              "50%     9600.000000     36.000000     11.710000      4.000000  5.886800e+04   \n",
              "75%    15000.000000     36.000000     14.380000      9.000000  8.200000e+04   \n",
              "max    35000.000000     60.000000     24.400000     10.000000  6.000000e+06   \n",
              "\n",
              "                dti  pub_rec_bankruptcies   issue_month  \n",
              "count  38577.000000          37880.000000  38577.000000  \n",
              "mean      13.272727              0.043479      7.114757  \n",
              "std        6.673044              0.204583      3.408523  \n",
              "min        0.000000              0.000000      1.000000  \n",
              "25%        8.130000              0.000000      4.000000  \n",
              "50%       13.370000              0.000000      7.000000  \n",
              "75%       18.560000              0.000000     10.000000  \n",
              "max       29.990000              2.000000     12.000000  "
            ],
            "text/html": [
              "\n",
              "  <div id=\"df-a38ea885-138a-4fe0-be19-0ffb99dcb4b4\">\n",
              "    <div class=\"colab-df-container\">\n",
              "      <div>\n",
              "<style scoped>\n",
              "    .dataframe tbody tr th:only-of-type {\n",
              "        vertical-align: middle;\n",
              "    }\n",
              "\n",
              "    .dataframe tbody tr th {\n",
              "        vertical-align: top;\n",
              "    }\n",
              "\n",
              "    .dataframe thead th {\n",
              "        text-align: right;\n",
              "    }\n",
              "</style>\n",
              "<table border=\"1\" class=\"dataframe\">\n",
              "  <thead>\n",
              "    <tr style=\"text-align: right;\">\n",
              "      <th></th>\n",
              "      <th>loan_amnt</th>\n",
              "      <th>term</th>\n",
              "      <th>int_rate</th>\n",
              "      <th>emp_length</th>\n",
              "      <th>annual_inc</th>\n",
              "      <th>dti</th>\n",
              "      <th>pub_rec_bankruptcies</th>\n",
              "      <th>issue_month</th>\n",
              "    </tr>\n",
              "  </thead>\n",
              "  <tbody>\n",
              "    <tr>\n",
              "      <th>count</th>\n",
              "      <td>38577.000000</td>\n",
              "      <td>38577.000000</td>\n",
              "      <td>38577.000000</td>\n",
              "      <td>38577.000000</td>\n",
              "      <td>3.857700e+04</td>\n",
              "      <td>38577.000000</td>\n",
              "      <td>37880.000000</td>\n",
              "      <td>38577.000000</td>\n",
              "    </tr>\n",
              "    <tr>\n",
              "      <th>mean</th>\n",
              "      <td>11047.025430</td>\n",
              "      <td>41.898437</td>\n",
              "      <td>11.932219</td>\n",
              "      <td>4.925526</td>\n",
              "      <td>6.877797e+04</td>\n",
              "      <td>13.272727</td>\n",
              "      <td>0.043479</td>\n",
              "      <td>7.114757</td>\n",
              "    </tr>\n",
              "    <tr>\n",
              "      <th>std</th>\n",
              "      <td>7348.441646</td>\n",
              "      <td>10.333136</td>\n",
              "      <td>3.691327</td>\n",
              "      <td>3.453921</td>\n",
              "      <td>6.421868e+04</td>\n",
              "      <td>6.673044</td>\n",
              "      <td>0.204583</td>\n",
              "      <td>3.408523</td>\n",
              "    </tr>\n",
              "    <tr>\n",
              "      <th>min</th>\n",
              "      <td>500.000000</td>\n",
              "      <td>36.000000</td>\n",
              "      <td>5.420000</td>\n",
              "      <td>0.000000</td>\n",
              "      <td>4.000000e+03</td>\n",
              "      <td>0.000000</td>\n",
              "      <td>0.000000</td>\n",
              "      <td>1.000000</td>\n",
              "    </tr>\n",
              "    <tr>\n",
              "      <th>25%</th>\n",
              "      <td>5300.000000</td>\n",
              "      <td>36.000000</td>\n",
              "      <td>8.940000</td>\n",
              "      <td>2.000000</td>\n",
              "      <td>4.000000e+04</td>\n",
              "      <td>8.130000</td>\n",
              "      <td>0.000000</td>\n",
              "      <td>4.000000</td>\n",
              "    </tr>\n",
              "    <tr>\n",
              "      <th>50%</th>\n",
              "      <td>9600.000000</td>\n",
              "      <td>36.000000</td>\n",
              "      <td>11.710000</td>\n",
              "      <td>4.000000</td>\n",
              "      <td>5.886800e+04</td>\n",
              "      <td>13.370000</td>\n",
              "      <td>0.000000</td>\n",
              "      <td>7.000000</td>\n",
              "    </tr>\n",
              "    <tr>\n",
              "      <th>75%</th>\n",
              "      <td>15000.000000</td>\n",
              "      <td>36.000000</td>\n",
              "      <td>14.380000</td>\n",
              "      <td>9.000000</td>\n",
              "      <td>8.200000e+04</td>\n",
              "      <td>18.560000</td>\n",
              "      <td>0.000000</td>\n",
              "      <td>10.000000</td>\n",
              "    </tr>\n",
              "    <tr>\n",
              "      <th>max</th>\n",
              "      <td>35000.000000</td>\n",
              "      <td>60.000000</td>\n",
              "      <td>24.400000</td>\n",
              "      <td>10.000000</td>\n",
              "      <td>6.000000e+06</td>\n",
              "      <td>29.990000</td>\n",
              "      <td>2.000000</td>\n",
              "      <td>12.000000</td>\n",
              "    </tr>\n",
              "  </tbody>\n",
              "</table>\n",
              "</div>\n",
              "      <button class=\"colab-df-convert\" onclick=\"convertToInteractive('df-a38ea885-138a-4fe0-be19-0ffb99dcb4b4')\"\n",
              "              title=\"Convert this dataframe to an interactive table.\"\n",
              "              style=\"display:none;\">\n",
              "        \n",
              "  <svg xmlns=\"http://www.w3.org/2000/svg\" height=\"24px\"viewBox=\"0 0 24 24\"\n",
              "       width=\"24px\">\n",
              "    <path d=\"M0 0h24v24H0V0z\" fill=\"none\"/>\n",
              "    <path d=\"M18.56 5.44l.94 2.06.94-2.06 2.06-.94-2.06-.94-.94-2.06-.94 2.06-2.06.94zm-11 1L8.5 8.5l.94-2.06 2.06-.94-2.06-.94L8.5 2.5l-.94 2.06-2.06.94zm10 10l.94 2.06.94-2.06 2.06-.94-2.06-.94-.94-2.06-.94 2.06-2.06.94z\"/><path d=\"M17.41 7.96l-1.37-1.37c-.4-.4-.92-.59-1.43-.59-.52 0-1.04.2-1.43.59L10.3 9.45l-7.72 7.72c-.78.78-.78 2.05 0 2.83L4 21.41c.39.39.9.59 1.41.59.51 0 1.02-.2 1.41-.59l7.78-7.78 2.81-2.81c.8-.78.8-2.07 0-2.86zM5.41 20L4 18.59l7.72-7.72 1.47 1.35L5.41 20z\"/>\n",
              "  </svg>\n",
              "      </button>\n",
              "      \n",
              "  <style>\n",
              "    .colab-df-container {\n",
              "      display:flex;\n",
              "      flex-wrap:wrap;\n",
              "      gap: 12px;\n",
              "    }\n",
              "\n",
              "    .colab-df-convert {\n",
              "      background-color: #E8F0FE;\n",
              "      border: none;\n",
              "      border-radius: 50%;\n",
              "      cursor: pointer;\n",
              "      display: none;\n",
              "      fill: #1967D2;\n",
              "      height: 32px;\n",
              "      padding: 0 0 0 0;\n",
              "      width: 32px;\n",
              "    }\n",
              "\n",
              "    .colab-df-convert:hover {\n",
              "      background-color: #E2EBFA;\n",
              "      box-shadow: 0px 1px 2px rgba(60, 64, 67, 0.3), 0px 1px 3px 1px rgba(60, 64, 67, 0.15);\n",
              "      fill: #174EA6;\n",
              "    }\n",
              "\n",
              "    [theme=dark] .colab-df-convert {\n",
              "      background-color: #3B4455;\n",
              "      fill: #D2E3FC;\n",
              "    }\n",
              "\n",
              "    [theme=dark] .colab-df-convert:hover {\n",
              "      background-color: #434B5C;\n",
              "      box-shadow: 0px 1px 3px 1px rgba(0, 0, 0, 0.15);\n",
              "      filter: drop-shadow(0px 1px 2px rgba(0, 0, 0, 0.3));\n",
              "      fill: #FFFFFF;\n",
              "    }\n",
              "  </style>\n",
              "\n",
              "      <script>\n",
              "        const buttonEl =\n",
              "          document.querySelector('#df-a38ea885-138a-4fe0-be19-0ffb99dcb4b4 button.colab-df-convert');\n",
              "        buttonEl.style.display =\n",
              "          google.colab.kernel.accessAllowed ? 'block' : 'none';\n",
              "\n",
              "        async function convertToInteractive(key) {\n",
              "          const element = document.querySelector('#df-a38ea885-138a-4fe0-be19-0ffb99dcb4b4');\n",
              "          const dataTable =\n",
              "            await google.colab.kernel.invokeFunction('convertToInteractive',\n",
              "                                                     [key], {});\n",
              "          if (!dataTable) return;\n",
              "\n",
              "          const docLinkHtml = 'Like what you see? Visit the ' +\n",
              "            '<a target=\"_blank\" href=https://colab.research.google.com/notebooks/data_table.ipynb>data table notebook</a>'\n",
              "            + ' to learn more about interactive tables.';\n",
              "          element.innerHTML = '';\n",
              "          dataTable['output_type'] = 'display_data';\n",
              "          await google.colab.output.renderOutput(dataTable, element);\n",
              "          const docLink = document.createElement('div');\n",
              "          docLink.innerHTML = docLinkHtml;\n",
              "          element.appendChild(docLink);\n",
              "        }\n",
              "      </script>\n",
              "    </div>\n",
              "  </div>\n",
              "  "
            ]
          },
          "metadata": {},
          "execution_count": 31
        }
      ]
    },
    {
      "cell_type": "code",
      "source": [
        "loan.corr()"
      ],
      "metadata": {
        "colab": {
          "base_uri": "https://localhost:8080/",
          "height": 300
        },
        "id": "BDl49taNuli-",
        "outputId": "c2d4d5ea-fd56-407e-ea78-48aae43e1400"
      },
      "execution_count": 32,
      "outputs": [
        {
          "output_type": "execute_result",
          "data": {
            "text/plain": [
              "                      loan_amnt      term  int_rate  emp_length  annual_inc  \\\n",
              "loan_amnt              1.000000  0.346650  0.301265    0.156259    0.268999   \n",
              "term                   0.346650  1.000000  0.440206    0.102642    0.043866   \n",
              "int_rate               0.301265  0.440206  1.000000    0.011440    0.048899   \n",
              "emp_length             0.156259  0.102642  0.011440    1.000000    0.121229   \n",
              "annual_inc             0.268999  0.043866  0.048899    0.121229    1.000000   \n",
              "dti                    0.062436  0.076182  0.110913    0.048964   -0.121530   \n",
              "pub_rec_bankruptcies  -0.035981  0.014529  0.083027    0.047620   -0.016224   \n",
              "issue_month            0.051902  0.033173  0.025285    0.020365    0.008980   \n",
              "\n",
              "                           dti  pub_rec_bankruptcies  issue_month  \n",
              "loan_amnt             0.062436             -0.035981     0.051902  \n",
              "term                  0.076182              0.014529     0.033173  \n",
              "int_rate              0.110913              0.083027     0.025285  \n",
              "emp_length            0.048964              0.047620     0.020365  \n",
              "annual_inc           -0.121530             -0.016224     0.008980  \n",
              "dti                   1.000000              0.005966     0.014197  \n",
              "pub_rec_bankruptcies  0.005966              1.000000    -0.021411  \n",
              "issue_month           0.014197             -0.021411     1.000000  "
            ],
            "text/html": [
              "\n",
              "  <div id=\"df-83326c91-af3b-45fc-b96f-71dd7a8f53e5\">\n",
              "    <div class=\"colab-df-container\">\n",
              "      <div>\n",
              "<style scoped>\n",
              "    .dataframe tbody tr th:only-of-type {\n",
              "        vertical-align: middle;\n",
              "    }\n",
              "\n",
              "    .dataframe tbody tr th {\n",
              "        vertical-align: top;\n",
              "    }\n",
              "\n",
              "    .dataframe thead th {\n",
              "        text-align: right;\n",
              "    }\n",
              "</style>\n",
              "<table border=\"1\" class=\"dataframe\">\n",
              "  <thead>\n",
              "    <tr style=\"text-align: right;\">\n",
              "      <th></th>\n",
              "      <th>loan_amnt</th>\n",
              "      <th>term</th>\n",
              "      <th>int_rate</th>\n",
              "      <th>emp_length</th>\n",
              "      <th>annual_inc</th>\n",
              "      <th>dti</th>\n",
              "      <th>pub_rec_bankruptcies</th>\n",
              "      <th>issue_month</th>\n",
              "    </tr>\n",
              "  </thead>\n",
              "  <tbody>\n",
              "    <tr>\n",
              "      <th>loan_amnt</th>\n",
              "      <td>1.000000</td>\n",
              "      <td>0.346650</td>\n",
              "      <td>0.301265</td>\n",
              "      <td>0.156259</td>\n",
              "      <td>0.268999</td>\n",
              "      <td>0.062436</td>\n",
              "      <td>-0.035981</td>\n",
              "      <td>0.051902</td>\n",
              "    </tr>\n",
              "    <tr>\n",
              "      <th>term</th>\n",
              "      <td>0.346650</td>\n",
              "      <td>1.000000</td>\n",
              "      <td>0.440206</td>\n",
              "      <td>0.102642</td>\n",
              "      <td>0.043866</td>\n",
              "      <td>0.076182</td>\n",
              "      <td>0.014529</td>\n",
              "      <td>0.033173</td>\n",
              "    </tr>\n",
              "    <tr>\n",
              "      <th>int_rate</th>\n",
              "      <td>0.301265</td>\n",
              "      <td>0.440206</td>\n",
              "      <td>1.000000</td>\n",
              "      <td>0.011440</td>\n",
              "      <td>0.048899</td>\n",
              "      <td>0.110913</td>\n",
              "      <td>0.083027</td>\n",
              "      <td>0.025285</td>\n",
              "    </tr>\n",
              "    <tr>\n",
              "      <th>emp_length</th>\n",
              "      <td>0.156259</td>\n",
              "      <td>0.102642</td>\n",
              "      <td>0.011440</td>\n",
              "      <td>1.000000</td>\n",
              "      <td>0.121229</td>\n",
              "      <td>0.048964</td>\n",
              "      <td>0.047620</td>\n",
              "      <td>0.020365</td>\n",
              "    </tr>\n",
              "    <tr>\n",
              "      <th>annual_inc</th>\n",
              "      <td>0.268999</td>\n",
              "      <td>0.043866</td>\n",
              "      <td>0.048899</td>\n",
              "      <td>0.121229</td>\n",
              "      <td>1.000000</td>\n",
              "      <td>-0.121530</td>\n",
              "      <td>-0.016224</td>\n",
              "      <td>0.008980</td>\n",
              "    </tr>\n",
              "    <tr>\n",
              "      <th>dti</th>\n",
              "      <td>0.062436</td>\n",
              "      <td>0.076182</td>\n",
              "      <td>0.110913</td>\n",
              "      <td>0.048964</td>\n",
              "      <td>-0.121530</td>\n",
              "      <td>1.000000</td>\n",
              "      <td>0.005966</td>\n",
              "      <td>0.014197</td>\n",
              "    </tr>\n",
              "    <tr>\n",
              "      <th>pub_rec_bankruptcies</th>\n",
              "      <td>-0.035981</td>\n",
              "      <td>0.014529</td>\n",
              "      <td>0.083027</td>\n",
              "      <td>0.047620</td>\n",
              "      <td>-0.016224</td>\n",
              "      <td>0.005966</td>\n",
              "      <td>1.000000</td>\n",
              "      <td>-0.021411</td>\n",
              "    </tr>\n",
              "    <tr>\n",
              "      <th>issue_month</th>\n",
              "      <td>0.051902</td>\n",
              "      <td>0.033173</td>\n",
              "      <td>0.025285</td>\n",
              "      <td>0.020365</td>\n",
              "      <td>0.008980</td>\n",
              "      <td>0.014197</td>\n",
              "      <td>-0.021411</td>\n",
              "      <td>1.000000</td>\n",
              "    </tr>\n",
              "  </tbody>\n",
              "</table>\n",
              "</div>\n",
              "      <button class=\"colab-df-convert\" onclick=\"convertToInteractive('df-83326c91-af3b-45fc-b96f-71dd7a8f53e5')\"\n",
              "              title=\"Convert this dataframe to an interactive table.\"\n",
              "              style=\"display:none;\">\n",
              "        \n",
              "  <svg xmlns=\"http://www.w3.org/2000/svg\" height=\"24px\"viewBox=\"0 0 24 24\"\n",
              "       width=\"24px\">\n",
              "    <path d=\"M0 0h24v24H0V0z\" fill=\"none\"/>\n",
              "    <path d=\"M18.56 5.44l.94 2.06.94-2.06 2.06-.94-2.06-.94-.94-2.06-.94 2.06-2.06.94zm-11 1L8.5 8.5l.94-2.06 2.06-.94-2.06-.94L8.5 2.5l-.94 2.06-2.06.94zm10 10l.94 2.06.94-2.06 2.06-.94-2.06-.94-.94-2.06-.94 2.06-2.06.94z\"/><path d=\"M17.41 7.96l-1.37-1.37c-.4-.4-.92-.59-1.43-.59-.52 0-1.04.2-1.43.59L10.3 9.45l-7.72 7.72c-.78.78-.78 2.05 0 2.83L4 21.41c.39.39.9.59 1.41.59.51 0 1.02-.2 1.41-.59l7.78-7.78 2.81-2.81c.8-.78.8-2.07 0-2.86zM5.41 20L4 18.59l7.72-7.72 1.47 1.35L5.41 20z\"/>\n",
              "  </svg>\n",
              "      </button>\n",
              "      \n",
              "  <style>\n",
              "    .colab-df-container {\n",
              "      display:flex;\n",
              "      flex-wrap:wrap;\n",
              "      gap: 12px;\n",
              "    }\n",
              "\n",
              "    .colab-df-convert {\n",
              "      background-color: #E8F0FE;\n",
              "      border: none;\n",
              "      border-radius: 50%;\n",
              "      cursor: pointer;\n",
              "      display: none;\n",
              "      fill: #1967D2;\n",
              "      height: 32px;\n",
              "      padding: 0 0 0 0;\n",
              "      width: 32px;\n",
              "    }\n",
              "\n",
              "    .colab-df-convert:hover {\n",
              "      background-color: #E2EBFA;\n",
              "      box-shadow: 0px 1px 2px rgba(60, 64, 67, 0.3), 0px 1px 3px 1px rgba(60, 64, 67, 0.15);\n",
              "      fill: #174EA6;\n",
              "    }\n",
              "\n",
              "    [theme=dark] .colab-df-convert {\n",
              "      background-color: #3B4455;\n",
              "      fill: #D2E3FC;\n",
              "    }\n",
              "\n",
              "    [theme=dark] .colab-df-convert:hover {\n",
              "      background-color: #434B5C;\n",
              "      box-shadow: 0px 1px 3px 1px rgba(0, 0, 0, 0.15);\n",
              "      filter: drop-shadow(0px 1px 2px rgba(0, 0, 0, 0.3));\n",
              "      fill: #FFFFFF;\n",
              "    }\n",
              "  </style>\n",
              "\n",
              "      <script>\n",
              "        const buttonEl =\n",
              "          document.querySelector('#df-83326c91-af3b-45fc-b96f-71dd7a8f53e5 button.colab-df-convert');\n",
              "        buttonEl.style.display =\n",
              "          google.colab.kernel.accessAllowed ? 'block' : 'none';\n",
              "\n",
              "        async function convertToInteractive(key) {\n",
              "          const element = document.querySelector('#df-83326c91-af3b-45fc-b96f-71dd7a8f53e5');\n",
              "          const dataTable =\n",
              "            await google.colab.kernel.invokeFunction('convertToInteractive',\n",
              "                                                     [key], {});\n",
              "          if (!dataTable) return;\n",
              "\n",
              "          const docLinkHtml = 'Like what you see? Visit the ' +\n",
              "            '<a target=\"_blank\" href=https://colab.research.google.com/notebooks/data_table.ipynb>data table notebook</a>'\n",
              "            + ' to learn more about interactive tables.';\n",
              "          element.innerHTML = '';\n",
              "          dataTable['output_type'] = 'display_data';\n",
              "          await google.colab.output.renderOutput(dataTable, element);\n",
              "          const docLink = document.createElement('div');\n",
              "          docLink.innerHTML = docLinkHtml;\n",
              "          element.appendChild(docLink);\n",
              "        }\n",
              "      </script>\n",
              "    </div>\n",
              "  </div>\n",
              "  "
            ]
          },
          "metadata": {},
          "execution_count": 32
        }
      ]
    },
    {
      "cell_type": "markdown",
      "source": [
        "Observation From Correlation Matrix\n",
        "1. Annual Income and debt-to-income/dti is negatively correlated i.e if Annual income is low, the amount going towards debt is high and vice versa.\n",
        "2. Annual Income and Loan Amount and Employment Length are postively correlated"
      ],
      "metadata": {
        "id": "YVwJRw94yuVd"
      }
    },
    {
      "cell_type": "code",
      "source": [
        "# Cat Variables : grade, sub_grade, term,home_ownership,verification_status,loan_status,purpose\n",
        "# Cont Variables : loan_amnt, int_rate,emp_length,annual_inc,dti,issue_month,pub_rec_bankruptcies"
      ],
      "metadata": {
        "id": "xPrYP-QEp_WI"
      },
      "execution_count": 33,
      "outputs": []
    },
    {
      "cell_type": "markdown",
      "source": [
        "##### Univariate"
      ],
      "metadata": {
        "id": "wO2LItoop9QI"
      }
    },
    {
      "cell_type": "code",
      "source": [
        "#Count plot to show charged off loans vs fully paid ones\n",
        "sns.countplot(loan['loan_status'])\n",
        "plt.show()"
      ],
      "metadata": {
        "colab": {
          "base_uri": "https://localhost:8080/",
          "height": 0
        },
        "id": "FymG58oFscQQ",
        "outputId": "898a86b0-a910-4c65-ee5c-6b993485129f"
      },
      "execution_count": 34,
      "outputs": [
        {
          "output_type": "stream",
          "name": "stderr",
          "text": [
            "/usr/local/lib/python3.7/dist-packages/seaborn/_decorators.py:43: FutureWarning: Pass the following variable as a keyword arg: x. From version 0.12, the only valid positional argument will be `data`, and passing other arguments without an explicit keyword will result in an error or misinterpretation.\n",
            "  FutureWarning\n"
          ]
        },
        {
          "output_type": "display_data",
          "data": {
            "text/plain": [
              "<Figure size 432x288 with 1 Axes>"
            ],
            "image/png": "[encoded data removed]"
          },
          "metadata": {
            "needs_background": "light"
          }
        }
      ]
    },
    {
      "cell_type": "markdown",
      "source": [
        "The ratio of loans that were Charged Off is less compared to the Fully Paid Loans"
      ],
      "metadata": {
        "id": "0uzH1Y1nziZC"
      }
    },
    {
      "cell_type": "code",
      "source": [
        "#Check for Outliers\n",
        "# Anual Income\n",
        "sns.boxplot(loan['annual_inc'])\n",
        "plt.show()\n"
      ],
      "metadata": {
        "colab": {
          "base_uri": "https://localhost:8080/",
          "height": 0
        },
        "id": "PDGlOwSaygk1",
        "outputId": "a1f1c917-9397-4eea-8ced-066cf0afef63"
      },
      "execution_count": 35,
      "outputs": [
        {
          "output_type": "stream",
          "name": "stderr",
          "text": [
            "/usr/local/lib/python3.7/dist-packages/seaborn/_decorators.py:43: FutureWarning: Pass the following variable as a keyword arg: x. From version 0.12, the only valid positional argument will be `data`, and passing other arguments without an explicit keyword will result in an error or misinterpretation.\n",
            "  FutureWarning\n"
          ]
        },
        {
          "output_type": "display_data",
          "data": {
            "text/plain": [
              "<Figure size 432x288 with 1 Axes>"
            ],
            "image/png": "[encoded data removed]"
          },
          "metadata": {
            "needs_background": "light"
          }
        }
      ]
    },
    {
      "cell_type": "code",
      "source": [
        "loan['annual_inc'].describe()"
      ],
      "metadata": {
        "colab": {
          "base_uri": "https://localhost:8080/"
        },
        "id": "TKC5aw1d0kHW",
        "outputId": "01c65a1f-ef64-4196-8a02-6187c7e51f95"
      },
      "execution_count": 36,
      "outputs": [
        {
          "output_type": "execute_result",
          "data": {
            "text/plain": [
              "count    3.857700e+04\n",
              "mean     6.877797e+04\n",
              "std      6.421868e+04\n",
              "min      4.000000e+03\n",
              "25%      4.000000e+04\n",
              "50%      5.886800e+04\n",
              "75%      8.200000e+04\n",
              "max      6.000000e+06\n",
              "Name: annual_inc, dtype: float64"
            ]
          },
          "metadata": {},
          "execution_count": 36
        }
      ]
    },
    {
      "cell_type": "code",
      "source": [
        "#Getting 25th and 75th percentile values\n",
        "q1,q3 = loan['annual_inc'].quantile([0.25,0.75])\n",
        "print(q1,\" \",q3)"
      ],
      "metadata": {
        "colab": {
          "base_uri": "https://localhost:8080/"
        },
        "id": "XcG8qAvd1lta",
        "outputId": "6895616d-83bb-4c8e-f852-22d3994cae84"
      },
      "execution_count": 37,
      "outputs": [
        {
          "output_type": "stream",
          "name": "stdout",
          "text": [
            "40000.0   82000.0\n"
          ]
        }
      ]
    },
    {
      "cell_type": "code",
      "source": [
        "#Get inter quantile range\n",
        "iqr = q3-q1\n",
        "print(\"IQR is :\",iqr)"
      ],
      "metadata": {
        "colab": {
          "base_uri": "https://localhost:8080/"
        },
        "id": "jKZce0GiFXOI",
        "outputId": "df11717f-f00e-4081-ad49-03b2e9d15c39"
      },
      "execution_count": 38,
      "outputs": [
        {
          "output_type": "stream",
          "name": "stdout",
          "text": [
            "IQR is : 42000.0\n"
          ]
        }
      ]
    },
    {
      "cell_type": "code",
      "source": [
        "#get lower bound and upper bound for data\n",
        "lower_bound = q1-(1.5*iqr) \n",
        "upper_bound = q3+(1.5*iqr)\n",
        "print(lower_bound,\" \",upper_bound)"
      ],
      "metadata": {
        "colab": {
          "base_uri": "https://localhost:8080/"
        },
        "id": "lUrc26ziFiUA",
        "outputId": "57e2d998-a212-48b2-e64c-9fad46702be2"
      },
      "execution_count": 39,
      "outputs": [
        {
          "output_type": "stream",
          "name": "stdout",
          "text": [
            "-23000.0   145000.0\n"
          ]
        }
      ]
    },
    {
      "cell_type": "code",
      "source": [
        "#annual income can't be negative so ignoring lower bound and considering only upper bound\n",
        "print(\"Shape of data before clearing outliers in annual income : \", loan.shape)\n",
        "\n",
        "loan = loan[~(loan['annual_inc']>upper_bound)]\n",
        "print(\"Shape of data after clearing outliers in annual income : \",loan.shape)"
      ],
      "metadata": {
        "colab": {
          "base_uri": "https://localhost:8080/"
        },
        "id": "wUhjN5lQGC8f",
        "outputId": "df06c417-fb14-43fd-a94e-29cfeb57affa"
      },
      "execution_count": 40,
      "outputs": [
        {
          "output_type": "stream",
          "name": "stdout",
          "text": [
            "Shape of data before clearing outliers in annual income :  (38577, 15)\n",
            "Shape of data after clearing outliers in annual income :  (36815, 15)\n"
          ]
        }
      ]
    },
    {
      "cell_type": "code",
      "source": [
        "#Box Plot after removing outliers\n",
        "sns.boxplot(loan['annual_inc'])\n",
        "plt.show()"
      ],
      "metadata": {
        "colab": {
          "base_uri": "https://localhost:8080/",
          "height": 0
        },
        "id": "vgpP5FubHXDX",
        "outputId": "af28e3ae-e013-4ace-e41c-3d93c90d8817"
      },
      "execution_count": 41,
      "outputs": [
        {
          "output_type": "stream",
          "name": "stderr",
          "text": [
            "/usr/local/lib/python3.7/dist-packages/seaborn/_decorators.py:43: FutureWarning: Pass the following variable as a keyword arg: x. From version 0.12, the only valid positional argument will be `data`, and passing other arguments without an explicit keyword will result in an error or misinterpretation.\n",
            "  FutureWarning\n"
          ]
        },
        {
          "output_type": "display_data",
          "data": {
            "text/plain": [
              "<Figure size 432x288 with 1 Axes>"
            ],
            "image/png": "[encoded data removed]"
          },
          "metadata": {
            "needs_background": "light"
          }
        }
      ]
    },
    {
      "cell_type": "code",
      "source": [
        "sns.histplot(loan['annual_inc'], bins =8)\n",
        "plt.show()"
      ],
      "metadata": {
        "colab": {
          "base_uri": "https://localhost:8080/",
          "height": 0
        },
        "id": "LmTTlhEFLg64",
        "outputId": "3a375c24-bcb2-4b3a-a400-fc3d38e69c83"
      },
      "execution_count": 42,
      "outputs": [
        {
          "output_type": "display_data",
          "data": {
            "text/plain": [
              "<Figure size 432x288 with 1 Axes>"
            ],
            "image/png": "[encoded data removed]"
          },
          "metadata": {
            "needs_background": "light"
          }
        }
      ]
    },
    {
      "cell_type": "code",
      "source": [
        "#Observation\n",
        "# The annual_income ranges from 40K to 80K"
      ],
      "metadata": {
        "id": "1v46rdsNMChx"
      },
      "execution_count": 43,
      "outputs": []
    },
    {
      "cell_type": "code",
      "source": [
        "#Checking Loans Provided based on Grade\n",
        "sns.countplot(loan['grade'])\n",
        "plt.show()"
      ],
      "metadata": {
        "colab": {
          "base_uri": "https://localhost:8080/",
          "height": 0
        },
        "id": "IHSp_yOcIrgw",
        "outputId": "b287402c-b7c4-457c-9d29-14686683d1d2"
      },
      "execution_count": 44,
      "outputs": [
        {
          "output_type": "stream",
          "name": "stderr",
          "text": [
            "/usr/local/lib/python3.7/dist-packages/seaborn/_decorators.py:43: FutureWarning: Pass the following variable as a keyword arg: x. From version 0.12, the only valid positional argument will be `data`, and passing other arguments without an explicit keyword will result in an error or misinterpretation.\n",
            "  FutureWarning\n"
          ]
        },
        {
          "output_type": "display_data",
          "data": {
            "text/plain": [
              "<Figure size 432x288 with 1 Axes>"
            ],
            "image/png": "[encoded data removed]"
          },
          "metadata": {
            "needs_background": "light"
          }
        }
      ]
    },
    {
      "cell_type": "markdown",
      "source": [
        "**Observation**\n",
        "\n",
        "Number of loans provided were max for A,B,C grade employees"
      ],
      "metadata": {
        "id": "gLkqPP4Qzp6E"
      }
    },
    {
      "cell_type": "code",
      "source": [
        "#Loan Amount\n",
        "sns.histplot(loan['loan_amnt'])\n",
        "plt.show()"
      ],
      "metadata": {
        "colab": {
          "base_uri": "https://localhost:8080/",
          "height": 0
        },
        "id": "NdgV_cDiKXKo",
        "outputId": "018c94c0-465c-419e-bf45-5d8df01207d4"
      },
      "execution_count": 45,
      "outputs": [
        {
          "output_type": "display_data",
          "data": {
            "text/plain": [
              "<Figure size 432x288 with 1 Axes>"
            ],
            "image/png": "[encoded data removed]"
          },
          "metadata": {
            "needs_background": "light"
          }
        }
      ]
    },
    {
      "cell_type": "markdown",
      "source": [
        "**Observation**\n",
        "\n",
        "Max loans are between 5000 and 15000"
      ],
      "metadata": {
        "id": "lj9948lQzxia"
      }
    },
    {
      "cell_type": "code",
      "source": [
        "# Purpose\n",
        "sns.countplot(loan['purpose'])\n",
        "plt.xticks(rotation = 90)\n",
        "plt.show()"
      ],
      "metadata": {
        "colab": {
          "base_uri": "https://localhost:8080/",
          "height": 0
        },
        "id": "yzA4igq-LXmR",
        "outputId": "a05e664e-6c4b-46c8-feb2-97666ca890ef"
      },
      "execution_count": 46,
      "outputs": [
        {
          "output_type": "stream",
          "name": "stderr",
          "text": [
            "/usr/local/lib/python3.7/dist-packages/seaborn/_decorators.py:43: FutureWarning: Pass the following variable as a keyword arg: x. From version 0.12, the only valid positional argument will be `data`, and passing other arguments without an explicit keyword will result in an error or misinterpretation.\n",
            "  FutureWarning\n"
          ]
        },
        {
          "output_type": "display_data",
          "data": {
            "text/plain": [
              "<Figure size 432x288 with 1 Axes>"
            ],
            "image/png": "[encoded data removed]"
          },
          "metadata": {
            "needs_background": "light"
          }
        }
      ]
    },
    {
      "cell_type": "markdown",
      "source": [
        "**Observation**\n",
        "\n",
        "Max number of loans were given for debt consolidation"
      ],
      "metadata": {
        "id": "lmxpBRwdz4bb"
      }
    },
    {
      "cell_type": "markdown",
      "source": [
        "##### BiVariate"
      ],
      "metadata": {
        "id": "P6DZAoH3QYCC"
      }
    },
    {
      "cell_type": "code",
      "source": [
        "#Comparing Purpose vs Loan Status\n",
        "purpose_vs_status_plt = sns.countplot(data=loan,x='purpose',hue='loan_status')\n",
        "purpose_vs_status_plt.set_xlabel('Purpose')\n",
        "purpose_vs_status_plt.set_ylabel('Count')\n",
        "plt.xticks(rotation=90)\n",
        "plt.show()"
      ],
      "metadata": {
        "colab": {
          "base_uri": "https://localhost:8080/",
          "height": 0
        },
        "id": "wIghY-OmPPK7",
        "outputId": "e2f5f8ba-5783-4a37-b366-addec9e6afcd"
      },
      "execution_count": 47,
      "outputs": [
        {
          "output_type": "display_data",
          "data": {
            "text/plain": [
              "<Figure size 432x288 with 1 Axes>"
            ],
            "image/png": "[encoded data removed]"
          },
          "metadata": {
            "needs_background": "light"
          }
        }
      ]
    },
    {
      "cell_type": "markdown",
      "source": [
        "**Observation**\n",
        "\n",
        "Max loans were Charged off for loans of purpose debt_consolidation "
      ],
      "metadata": {
        "id": "4lKjElCK0FXd"
      }
    },
    {
      "cell_type": "code",
      "source": [
        "#Comparing Grade vs Loan Status\n",
        "grade_vs_status_plt = sns.countplot(data=loan,x='grade', hue='loan_status')\n",
        "grade_vs_status_plt.set_xlabel('Grade')\n",
        "grade_vs_status_plt.set_ylabel('Count')\n",
        "plt.show()"
      ],
      "metadata": {
        "colab": {
          "base_uri": "https://localhost:8080/",
          "height": 0
        },
        "id": "iBDuHQQMQhDR",
        "outputId": "22cab311-b9be-4622-a358-f94b18fe762a"
      },
      "execution_count": 48,
      "outputs": [
        {
          "output_type": "display_data",
          "data": {
            "text/plain": [
              "<Figure size 432x288 with 1 Axes>"
            ],
            "image/png": "[encoded data removed]"
          },
          "metadata": {
            "needs_background": "light"
          }
        }
      ]
    },
    {
      "cell_type": "markdown",
      "source": [
        "**Observation**\n",
        "\n",
        "\n",
        "Employees with Grade's E,F,G has Higher Charged Off ratio compared to A,B,C,D"
      ],
      "metadata": {
        "id": "W895FSmJ0K2P"
      }
    },
    {
      "cell_type": "code",
      "source": [
        "#Comparing Home Ownership vs Loan Status\n",
        "owner_vs_status_plt = sns.countplot(data=loan, x=\"home_ownership\", hue='loan_status')\n",
        "owner_vs_status_plt.set_xlabel('Home Ownership')\n",
        "owner_vs_status_plt.set_ylabel('Count')\n",
        "plt.show()"
      ],
      "metadata": {
        "colab": {
          "base_uri": "https://localhost:8080/",
          "height": 0
        },
        "id": "YCzM49kpuquO",
        "outputId": "1523906d-8931-4f29-b6ce-5e7c6cc18ca5"
      },
      "execution_count": 49,
      "outputs": [
        {
          "output_type": "display_data",
          "data": {
            "text/plain": [
              "<Figure size 432x288 with 1 Axes>"
            ],
            "image/png": "[encoded data removed]"
          },
          "metadata": {
            "needs_background": "light"
          }
        }
      ]
    },
    {
      "cell_type": "markdown",
      "source": [
        "**Observation**\n",
        "\n",
        "People living in Rented homes and Mortgaged homes have taken more loans compared to Owned homes, hence Charged Off is also higher"
      ],
      "metadata": {
        "id": "crNg61dK0PGn"
      }
    },
    {
      "cell_type": "code",
      "source": [
        "#Checking Month vs Loan Status\n",
        "issue_mnth_vs_status_plt = sns.countplot(data = loan, x = \"issue_month\", hue=\"loan_status\")\n",
        "issue_mnth_vs_status_plt.set_xlabel('Issue Month')\n",
        "issue_mnth_vs_status_plt.set_ylabel('Count')"
      ],
      "metadata": {
        "colab": {
          "base_uri": "https://localhost:8080/",
          "height": 0
        },
        "id": "eijWpdOjvbba",
        "outputId": "cca46211-b3f4-4e9f-89c1-6c8c39e93cb1"
      },
      "execution_count": 50,
      "outputs": [
        {
          "output_type": "execute_result",
          "data": {
            "text/plain": [
              "Text(0, 0.5, 'Count')"
            ]
          },
          "metadata": {},
          "execution_count": 50
        },
        {
          "output_type": "display_data",
          "data": {
            "text/plain": [
              "<Figure size 432x288 with 1 Axes>"
            ],
            "image/png": "[encoded data removed]"
          },
          "metadata": {
            "needs_background": "light"
          }
        }
      ]
    },
    {
      "cell_type": "markdown",
      "source": [
        "**Observation**\n",
        "\n",
        "Number of loans taken during the year end is higher compared to number of loans taken in year beginning"
      ],
      "metadata": {
        "id": "DNf4AZdz0TyX"
      }
    },
    {
      "cell_type": "code",
      "source": [
        "loan['annual_inc'].describe()"
      ],
      "metadata": {
        "colab": {
          "base_uri": "https://localhost:8080/"
        },
        "id": "-v9uAHF7v-QR",
        "outputId": "008e7f8b-2a80-4e03-9bac-63f8f27fd149"
      },
      "execution_count": 51,
      "outputs": [
        {
          "output_type": "execute_result",
          "data": {
            "text/plain": [
              "count     36815.000000\n",
              "mean      61218.193490\n",
              "std       28224.583784\n",
              "min        4000.000000\n",
              "25%       40000.000000\n",
              "50%       56000.000000\n",
              "75%       78000.000000\n",
              "max      145000.000000\n",
              "Name: annual_inc, dtype: float64"
            ]
          },
          "metadata": {},
          "execution_count": 51
        }
      ]
    },
    {
      "cell_type": "code",
      "source": [
        "#Validate Annual Income vs Loan Status\n",
        "#Convert income to Range\n",
        "def getAnnRangeFromInc(x):\n",
        "  if x>=0 and x<=20000:\n",
        "    return '0-20000'\n",
        "  elif x<=40000:\n",
        "    return '20001-40000'\n",
        "  elif x<=80000:\n",
        "    return '40001-80000'\n",
        "  else:\n",
        "    return '80000+'\n",
        "loan['annual_inc_range'] = loan['annual_inc'].apply(getAnnRangeFromInc)"
      ],
      "metadata": {
        "id": "y8mGaSw8wJl8"
      },
      "execution_count": 52,
      "outputs": []
    },
    {
      "cell_type": "code",
      "source": [
        "loan['annual_inc_range'].value_counts()"
      ],
      "metadata": {
        "colab": {
          "base_uri": "https://localhost:8080/"
        },
        "id": "br_Zu77R4CjE",
        "outputId": "8f960abd-5c6a-486b-dcc7-89843dd3d128"
      },
      "execution_count": 53,
      "outputs": [
        {
          "output_type": "execute_result",
          "data": {
            "text/plain": [
              "40001-80000    18884\n",
              "20001-40000     8518\n",
              "80000+          8233\n",
              "0-20000         1180\n",
              "Name: annual_inc_range, dtype: int64"
            ]
          },
          "metadata": {},
          "execution_count": 53
        }
      ]
    },
    {
      "cell_type": "code",
      "source": [
        "#Create Count Plot with Percentage by comparing Annual Income with Loan Status\n",
        "\n",
        "incRangeCntPlot = sns.countplot(data=loan,x='annual_inc_range',hue='loan_status')\n",
        "incRangeCntPlot.set_xlabel('Annual Income Range')\n",
        "incRangeCntPlot.set_ylabel('Count')\n",
        "incRangePatches = incRangeCntPlot.patches\n",
        "total = float(len(loan))\n",
        "\n",
        "for p in incRangePatches:\n",
        "   incRangeCntPlot.annotate('{:.1f}'.format(p.get_height()), (p.get_x()+0.25, p.get_height()+0.01))\n",
        "\n",
        "plt.show()"
      ],
      "metadata": {
        "colab": {
          "base_uri": "https://localhost:8080/",
          "height": 0
        },
        "id": "rBbBpE7n1aLE",
        "outputId": "7bb86118-2034-4549-aae0-aad2cd46feea"
      },
      "execution_count": 54,
      "outputs": [
        {
          "output_type": "display_data",
          "data": {
            "text/plain": [
              "<Figure size 432x288 with 1 Axes>"
            ],
            "image/png": "[encoded data removed]"
          },
          "metadata": {
            "needs_background": "light"
          }
        }
      ]
    },
    {
      "cell_type": "code",
      "source": [
        "\n",
        "inc_range_vs_status = loan.groupby(by=['annual_inc_range','loan_status'])['loan_status'].count().unstack().reset_index()\n",
        "\n",
        "print(inc_range_vs_status)"
      ],
      "metadata": {
        "colab": {
          "base_uri": "https://localhost:8080/"
        },
        "id": "wKVX5mP_-jPj",
        "outputId": "33b9af10-db79-4bbb-c594-47d484df38d0"
      },
      "execution_count": 55,
      "outputs": [
        {
          "output_type": "stream",
          "name": "stdout",
          "text": [
            "loan_status annual_inc_range  Charged Off  Fully Paid\n",
            "0                    0-20000          237         943\n",
            "1                20001-40000         1514        7004\n",
            "2                40001-80000         2753       16131\n",
            "3                     80000+          927        7306\n"
          ]
        }
      ]
    },
    {
      "cell_type": "code",
      "source": [
        "def getChargedOffPerc(chargedOff, fullyPaid):\n",
        "  chargedOffPerc = (chargedOff/ (chargedOff + fullyPaid))*100\n",
        "  return chargedOffPerc\n",
        "inc_range_vs_status['chargedOffPerc'] = inc_range_vs_status[['Charged Off','Fully Paid']].apply(lambda x: getChargedOffPerc(*x),axis=1)\n"
      ],
      "metadata": {
        "id": "oPcVxeuo42AK"
      },
      "execution_count": 56,
      "outputs": []
    },
    {
      "cell_type": "code",
      "source": [
        "inc_chargeoff_plt = sns.barplot(data = inc_range_vs_status,x='annual_inc_range',y='chargedOffPerc')\n",
        "inc_chargeoff_plt.set_xlabel('Annual Income Range')\n",
        "inc_chargeoff_plt.set_ylabel('Charged Off %')\n",
        "plt.show()"
      ],
      "metadata": {
        "colab": {
          "base_uri": "https://localhost:8080/",
          "height": 0
        },
        "id": "fuFnkI6xEEFM",
        "outputId": "58f71120-f9c0-4717-c133-c71aeabd0e03"
      },
      "execution_count": 57,
      "outputs": [
        {
          "output_type": "display_data",
          "data": {
            "text/plain": [
              "<Figure size 432x288 with 1 Axes>"
            ],
            "image/png": "[encoded data removed]"
          },
          "metadata": {
            "needs_background": "light"
          }
        }
      ]
    },
    {
      "cell_type": "markdown",
      "source": [
        "**Observation**\n",
        "\n",
        "The income range of 0-20000 has more Charged Off Loans"
      ],
      "metadata": {
        "id": "WfQScoAK0aHc"
      }
    },
    {
      "cell_type": "code",
      "source": [
        "verification_stat_vs_status_plt = sns.countplot(data=loan,x = 'verification_status', hue = 'loan_status')\n",
        "verification_stat_vs_status_plt.set_xlabel('Verification Status')\n",
        "verification_stat_vs_status_plt.set_ylabel('Count')"
      ],
      "metadata": {
        "colab": {
          "base_uri": "https://localhost:8080/",
          "height": 0
        },
        "id": "tuilOZV3bTtd",
        "outputId": "54d83ac5-a18c-4d2f-8fe0-a3f85572a43b"
      },
      "execution_count": 58,
      "outputs": [
        {
          "output_type": "execute_result",
          "data": {
            "text/plain": [
              "Text(0, 0.5, 'Count')"
            ]
          },
          "metadata": {},
          "execution_count": 58
        },
        {
          "output_type": "display_data",
          "data": {
            "text/plain": [
              "<Figure size 432x288 with 1 Axes>"
            ],
            "image/png": "[encoded data removed]"
          },
          "metadata": {
            "needs_background": "light"
          }
        }
      ]
    },
    {
      "cell_type": "markdown",
      "source": [
        "**Observation**\n",
        "\n",
        "Charged off Ratio is negligible for verification status"
      ],
      "metadata": {
        "id": "mUFlw37U0eg-"
      }
    },
    {
      "cell_type": "code",
      "source": [
        "int_vs_status = sns.histplot(data=loan, x='int_rate', hue = 'loan_status', bins = 4)\n",
        "int_vs_status.set_xlabel('Interest Rate')\n",
        "int_vs_status.set_ylabel('Count')\n",
        "for p in int_vs_status.patches:\n",
        "   int_vs_status.annotate('{:.1f}'.format(p.get_height()), (p.get_x()+0.25, p.get_height()+0.01))\n",
        "\n",
        "plt.show()"
      ],
      "metadata": {
        "colab": {
          "base_uri": "https://localhost:8080/",
          "height": 0
        },
        "id": "jqxuM5FOczcm",
        "outputId": "9c4663cf-d3d6-4bbd-f457-3ac9a226476b"
      },
      "execution_count": 59,
      "outputs": [
        {
          "output_type": "display_data",
          "data": {
            "text/plain": [
              "<Figure size 432x288 with 1 Axes>"
            ],
            "image/png": "[encoded data removed]"
          },
          "metadata": {
            "needs_background": "light"
          }
        }
      ]
    },
    {
      "cell_type": "code",
      "source": [
        "loan_status_vs_interest_rate_plt = sns.boxplot(x='loan_status',y='int_rate',data=loan)\n",
        "loan_status_vs_interest_rate_plt.set_xlabel('Loan Status')\n",
        "loan_status_vs_interest_rate_plt.set_ylabel('Interest Rate')"
      ],
      "metadata": {
        "colab": {
          "base_uri": "https://localhost:8080/",
          "height": 0
        },
        "id": "7NAruE2ut80A",
        "outputId": "635e41f2-70fe-4ea6-a021-2285fb4e6fe7"
      },
      "execution_count": 60,
      "outputs": [
        {
          "output_type": "execute_result",
          "data": {
            "text/plain": [
              "Text(0, 0.5, 'Interest Rate')"
            ]
          },
          "metadata": {},
          "execution_count": 60
        },
        {
          "output_type": "display_data",
          "data": {
            "text/plain": [
              "<Figure size 432x288 with 1 Axes>"
            ],
            "image/png": "[encoded data removed]"
          },
          "metadata": {
            "needs_background": "light"
          }
        }
      ]
    },
    {
      "cell_type": "markdown",
      "source": [
        "**Observation**\n",
        "\n",
        "With increase in interest rate the Risk of Charged Off Data is more"
      ],
      "metadata": {
        "id": "u4Ug4C1M0i-B"
      }
    },
    {
      "cell_type": "code",
      "source": [
        "purpose_status_vs_interest_rate_plt =sns.barplot(data=loan,x='purpose',y='int_rate')\n",
        "purpose_status_vs_interest_rate_plt.set_xlabel('Purpose')\n",
        "purpose_status_vs_interest_rate_plt.set_ylabel('Interest Rate')\n",
        "plt.xticks(rotation=90)\n",
        "plt.show()"
      ],
      "metadata": {
        "colab": {
          "base_uri": "https://localhost:8080/",
          "height": 0
        },
        "id": "YHiXwanbuLDN",
        "outputId": "24370641-0626-4133-d4c4-a86e691e7a0d"
      },
      "execution_count": 61,
      "outputs": [
        {
          "output_type": "display_data",
          "data": {
            "text/plain": [
              "<Figure size 432x288 with 1 Axes>"
            ],
            "image/png": "[encoded data removed]"
          },
          "metadata": {
            "needs_background": "light"
          }
        }
      ]
    },
    {
      "cell_type": "code",
      "source": [
        "emp_len_vs_status = sns.countplot(data = loan, x = 'emp_length',hue='loan_status')\n",
        "emp_len_vs_status.set_xlabel('Employment Length')\n",
        "emp_len_vs_status.set_ylabel('Count')\n",
        "for p in emp_len_vs_status.patches:\n",
        "   emp_len_vs_status.annotate('{:.1f}'.format(p.get_height()), (p.get_x()+0.25, p.get_height()+0.01))\n",
        "\n",
        "plt.show()\n"
      ],
      "metadata": {
        "colab": {
          "base_uri": "https://localhost:8080/",
          "height": 0
        },
        "id": "3BQJROERgOty",
        "outputId": "e3175910-e624-47e6-9ccb-c2c67a75b57f"
      },
      "execution_count": 62,
      "outputs": [
        {
          "output_type": "display_data",
          "data": {
            "text/plain": [
              "<Figure size 432x288 with 1 Axes>"
            ],
            "image/png": "[encoded data removed]"
          },
          "metadata": {
            "needs_background": "light"
          }
        }
      ]
    },
    {
      "cell_type": "markdown",
      "source": [
        "**Observation**\n",
        "\n",
        "Employees with experience between 0-1 tend to charge off their loans"
      ],
      "metadata": {
        "id": "IJKkbqzj0nzX"
      }
    },
    {
      "cell_type": "code",
      "source": [
        "term_vs_status_plt= sns.countplot(data=loan,x='term',hue='loan_status')\n",
        "term_vs_status_plt.set_xlabel('Term')\n",
        "term_vs_status_plt.set_ylabel('Count')"
      ],
      "metadata": {
        "colab": {
          "base_uri": "https://localhost:8080/",
          "height": 0
        },
        "id": "MM_rUbvKv708",
        "outputId": "68edce1b-a692-4c97-b2ab-f06da0f66cad"
      },
      "execution_count": 63,
      "outputs": [
        {
          "output_type": "execute_result",
          "data": {
            "text/plain": [
              "Text(0, 0.5, 'Count')"
            ]
          },
          "metadata": {},
          "execution_count": 63
        },
        {
          "output_type": "display_data",
          "data": {
            "text/plain": [
              "<Figure size 432x288 with 1 Axes>"
            ],
            "image/png": "[encoded data removed]"
          },
          "metadata": {
            "needs_background": "light"
          }
        }
      ]
    },
    {
      "cell_type": "markdown",
      "source": [
        "**Observation**\n",
        "\n",
        "Higher Terms have more Charged Off Loans"
      ],
      "metadata": {
        "id": "vjVTqM_Y0sQ0"
      }
    },
    {
      "cell_type": "code",
      "source": [
        "term_vs_interest_rate_plt=sns.barplot(data=loan,x='term',y='int_rate',hue='loan_status')\n",
        "term_vs_interest_rate_plt.set_xlabel('Term')\n",
        "term_vs_interest_rate_plt.set_ylabel('Interest Rate')"
      ],
      "metadata": {
        "colab": {
          "base_uri": "https://localhost:8080/",
          "height": 0
        },
        "id": "ehIcg1cNwVyk",
        "outputId": "4a448470-0914-4e71-a149-df83439e540e"
      },
      "execution_count": 64,
      "outputs": [
        {
          "output_type": "execute_result",
          "data": {
            "text/plain": [
              "Text(0, 0.5, 'Interest Rate')"
            ]
          },
          "metadata": {},
          "execution_count": 64
        },
        {
          "output_type": "display_data",
          "data": {
            "text/plain": [
              "<Figure size 432x288 with 1 Axes>"
            ],
            "image/png": "[encoded data removed]"
          },
          "metadata": {
            "needs_background": "light"
          }
        }
      ]
    },
    {
      "cell_type": "markdown",
      "source": [
        "**Observation**\n",
        "\n",
        "Higher Terms have more interest Rate and hence the chances for charge off are also high"
      ],
      "metadata": {
        "id": "id8Dnpjj0xQM"
      }
    },
    {
      "cell_type": "markdown",
      "source": [
        "##### MultiVariate"
      ],
      "metadata": {
        "id": "RfaD54OLnGZg"
      }
    },
    {
      "cell_type": "code",
      "source": [
        "\n",
        "\n",
        "purpose_loanamnt_status_plt = sns.barplot(data=loan, x= 'purpose', y='loan_amnt',hue='loan_status')\n",
        "purpose_loanamnt_status_plt.set_xlabel('Purpose')\n",
        "purpose_loanamnt_status_plt.set_ylabel('Loan Amount')\n",
        "plt.xticks(rotation=90)\n",
        "plt.show()"
      ],
      "metadata": {
        "colab": {
          "base_uri": "https://localhost:8080/",
          "height": 0
        },
        "id": "8yMMfLQJinFe",
        "outputId": "eba61374-7159-4800-f3a1-c5e6cf480eda"
      },
      "execution_count": 65,
      "outputs": [
        {
          "output_type": "display_data",
          "data": {
            "text/plain": [
              "<Figure size 432x288 with 1 Axes>"
            ],
            "image/png": "[encoded data removed]"
          },
          "metadata": {
            "needs_background": "light"
          }
        }
      ]
    },
    {
      "cell_type": "markdown",
      "source": [
        "**Observation**\n",
        "\n",
        "People with small businesses have taken higher loans and even that they have higher chances of being charged off"
      ],
      "metadata": {
        "id": "qTmYMnHm03Z_"
      }
    },
    {
      "cell_type": "code",
      "source": [
        "grade_anninc_status_plt = sns.barplot(data=loan, x= 'grade', y='annual_inc',hue='loan_status',order = 'ABCDEFG')\n",
        "grade_anninc_status_plt.set_xlabel('Grade')\n",
        "grade_anninc_status_plt.set_ylabel('Annual Income')\n",
        "plt.show()"
      ],
      "metadata": {
        "colab": {
          "base_uri": "https://localhost:8080/",
          "height": 0
        },
        "id": "6o2hrH_dnPV2",
        "outputId": "e04f2946-f16c-449c-8995-2749bbe8ef74"
      },
      "execution_count": 66,
      "outputs": [
        {
          "output_type": "display_data",
          "data": {
            "text/plain": [
              "<Figure size 432x288 with 1 Axes>"
            ],
            "image/png": "[encoded data removed]"
          },
          "metadata": {
            "needs_background": "light"
          }
        }
      ]
    },
    {
      "cell_type": "markdown",
      "source": [
        "**Observation**\n",
        "\n",
        "The customers whose loans are charged off have less income comparitively"
      ],
      "metadata": {
        "id": "3GOBkjr5085i"
      }
    },
    {
      "cell_type": "code",
      "source": [
        "purpose_dti_status_plt = sns.barplot(data=loan, x= 'purpose', y= 'dti', hue='loan_status')\n",
        "purpose_dti_status_plt.set_xlabel('Purpose')\n",
        "purpose_dti_status_plt.set_ylabel('DTI')\n",
        "plt.xticks(rotation=90)\n",
        "plt.show()"
      ],
      "metadata": {
        "colab": {
          "base_uri": "https://localhost:8080/",
          "height": 0
        },
        "id": "rBFLfjcroKvO",
        "outputId": "edce1f5f-6ed9-4b4d-f5e4-8da7c166aefc"
      },
      "execution_count": 67,
      "outputs": [
        {
          "output_type": "display_data",
          "data": {
            "text/plain": [
              "<Figure size 432x288 with 1 Axes>"
            ],
            "image/png": "[encoded data removed]"
          },
          "metadata": {
            "needs_background": "light"
          }
        }
      ]
    },
    {
      "cell_type": "markdown",
      "source": [
        "**Observation**\n",
        "\n",
        "*   People who have higher DTI have risk of being charged off\n",
        "*   The loan Purpose credit_card and debt_consolidation can be seen to have higher DTI\n",
        "\n"
      ],
      "metadata": {
        "id": "fyh_bUKR1Cjb"
      }
    },
    {
      "cell_type": "code",
      "source": [
        "purpose_dti_status_plt = sns.barplot(data=loan, x= 'purpose', y= 'annual_inc', hue='loan_status')\n",
        "purpose_dti_status_plt.set_xlabel('Purpose')\n",
        "purpose_dti_status_plt.set_ylabel('Annual Income')\n",
        "plt.xticks(rotation=90)\n",
        "plt.show()"
      ],
      "metadata": {
        "colab": {
          "base_uri": "https://localhost:8080/",
          "height": 0
        },
        "id": "Wy-dXRTSdmDB",
        "outputId": "7b93f79e-9844-4e2c-b6be-236555c76021"
      },
      "execution_count": 68,
      "outputs": [
        {
          "output_type": "display_data",
          "data": {
            "text/plain": [
              "<Figure size 432x288 with 1 Axes>"
            ],
            "image/png": "[encoded data removed]"
          },
          "metadata": {
            "needs_background": "light"
          }
        }
      ]
    },
    {
      "cell_type": "markdown",
      "source": [
        "**Observation**\n",
        "\n",
        "Applicants who have taken a loan for small business and have income of 55k -65k."
      ],
      "metadata": {
        "id": "uWrsN512gTmm"
      }
    },
    {
      "cell_type": "markdown",
      "source": [
        "#### Observations\n",
        "\n",
        "**The following are the driving factors for defaulter consideration:**\n",
        "\n",
        "*   Applicants going for loan to repay another loan.\n",
        "*   When applicants grade is E/F/G.\n",
        "*   When income is less than 20000.\n",
        "*   Applicants who receive high interest at the rate of 12-17%\n",
        "*   Applicants with employment length less than 1 year.\n",
        "*   When term is 60 months.\n",
        "*   Dti is above 12.\n",
        "*   Dti for Credit Card, Vacation & Debt consolidation purpose is high.\n",
        "*   Applicants who have taken a loan for small business and have income of 55k -65k.\n",
        "\n",
        "\n",
        "\n",
        "\n",
        "\n"
      ],
      "metadata": {
        "id": "ms5CvhYHgmLh"
      }
    },
    {
      "cell_type": "code",
      "source": [],
      "metadata": {
        "id": "WBVXqH9KhVN3"
      },
      "execution_count": 68,
      "outputs": []
    }
  ]
}